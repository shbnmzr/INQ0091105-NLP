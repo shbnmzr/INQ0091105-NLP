{
  "nbformat": 4,
  "nbformat_minor": 0,
  "metadata": {
    "colab": {
      "provenance": []
    },
    "kernelspec": {
      "name": "python3",
      "display_name": "Python 3"
    },
    "language_info": {
      "name": "python"
    }
  },
  "cells": [
    {
      "cell_type": "markdown",
      "source": [
        "install libraries"
      ],
      "metadata": {
        "id": "ylVE-tjGM7-K"
      }
    },
    {
      "cell_type": "code",
      "source": [
        "!pip install transformers\n",
        "!pip install datasets<=2.18.0"
      ],
      "metadata": {
        "colab": {
          "base_uri": "https://localhost:8080/"
        },
        "id": "wCbwZNi9PFU5",
        "outputId": "4bef27f3-6655-4730-c7e3-641c0cabdeab"
      },
      "execution_count": 4,
      "outputs": [
        {
          "output_type": "stream",
          "name": "stdout",
          "text": [
            "Requirement already satisfied: transformers in /usr/local/lib/python3.10/dist-packages (4.41.0)\n",
            "Requirement already satisfied: filelock in /usr/local/lib/python3.10/dist-packages (from transformers) (3.14.0)\n",
            "Requirement already satisfied: huggingface-hub<1.0,>=0.23.0 in /usr/local/lib/python3.10/dist-packages (from transformers) (0.23.1)\n",
            "Requirement already satisfied: numpy>=1.17 in /usr/local/lib/python3.10/dist-packages (from transformers) (1.25.2)\n",
            "Requirement already satisfied: packaging>=20.0 in /usr/local/lib/python3.10/dist-packages (from transformers) (24.0)\n",
            "Requirement already satisfied: pyyaml>=5.1 in /usr/local/lib/python3.10/dist-packages (from transformers) (6.0.1)\n",
            "Requirement already satisfied: regex!=2019.12.17 in /usr/local/lib/python3.10/dist-packages (from transformers) (2023.12.25)\n",
            "Requirement already satisfied: requests in /usr/local/lib/python3.10/dist-packages (from transformers) (2.31.0)\n",
            "Requirement already satisfied: tokenizers<0.20,>=0.19 in /usr/local/lib/python3.10/dist-packages (from transformers) (0.19.1)\n",
            "Requirement already satisfied: safetensors>=0.4.1 in /usr/local/lib/python3.10/dist-packages (from transformers) (0.4.3)\n",
            "Requirement already satisfied: tqdm>=4.27 in /usr/local/lib/python3.10/dist-packages (from transformers) (4.66.4)\n",
            "Requirement already satisfied: fsspec>=2023.5.0 in /usr/local/lib/python3.10/dist-packages (from huggingface-hub<1.0,>=0.23.0->transformers) (2023.6.0)\n",
            "Requirement already satisfied: typing-extensions>=3.7.4.3 in /usr/local/lib/python3.10/dist-packages (from huggingface-hub<1.0,>=0.23.0->transformers) (4.11.0)\n",
            "Requirement already satisfied: charset-normalizer<4,>=2 in /usr/local/lib/python3.10/dist-packages (from requests->transformers) (3.3.2)\n",
            "Requirement already satisfied: idna<4,>=2.5 in /usr/local/lib/python3.10/dist-packages (from requests->transformers) (3.7)\n",
            "Requirement already satisfied: urllib3<3,>=1.21.1 in /usr/local/lib/python3.10/dist-packages (from requests->transformers) (2.0.7)\n",
            "Requirement already satisfied: certifi>=2017.4.17 in /usr/local/lib/python3.10/dist-packages (from requests->transformers) (2024.2.2)\n",
            "/bin/bash: line 1: =2.18.0: No such file or directory\n"
          ]
        }
      ]
    },
    {
      "cell_type": "code",
      "source": [
        "from datasets import load_dataset\n",
        "\n",
        "# List available datasets and configurations\n",
        "imdb_dataset = load_dataset(\"imdb\")\n",
        "\n",
        "# Print available splits to ensure correct loading\n",
        "print(imdb_dataset)"
      ],
      "metadata": {
        "colab": {
          "base_uri": "https://localhost:8080/"
        },
        "id": "d74QxXApNHQf",
        "outputId": "90b7e1c1-a469-4dfe-bebb-1aeec08efb9f"
      },
      "execution_count": 5,
      "outputs": [
        {
          "output_type": "stream",
          "name": "stdout",
          "text": [
            "DatasetDict({\n",
            "    train: Dataset({\n",
            "        features: ['text', 'label'],\n",
            "        num_rows: 25000\n",
            "    })\n",
            "    test: Dataset({\n",
            "        features: ['text', 'label'],\n",
            "        num_rows: 25000\n",
            "    })\n",
            "    unsupervised: Dataset({\n",
            "        features: ['text', 'label'],\n",
            "        num_rows: 50000\n",
            "    })\n",
            "})\n"
          ]
        }
      ]
    },
    {
      "cell_type": "code",
      "source": [
        "import re\n",
        "\n",
        "# Define the word or phrase you want to filter by\n",
        "specific_word = \"Star Wars\"\n",
        "\n",
        "# Define a function to filter texts containing the specific word or phrase\n",
        "def filter_texts(example):\n",
        "    return bool(re.search(rf'\\b{specific_word}\\b', example['text'], re.IGNORECASE))\n",
        "\n",
        "# Apply the filter to the train and test datasets\n",
        "filtered_train_dataset = imdb_dataset['train'].filter(filter_texts)\n",
        "filtered_test_dataset = imdb_dataset['test'].filter(filter_texts)\n",
        "filtered_unsupervised_dataset = imdb_dataset['unsupervised'].filter(filter_texts)\n",
        "\n",
        "# Verify the filtered dataset\n",
        "print(filtered_train_dataset)\n",
        "print(filtered_test_dataset)\n",
        "print(filtered_unsupervised_dataset)\n",
        "\n",
        "print(filtered_train_dataset[0])\n",
        "print(filtered_test_dataset[0])\n",
        "print(filtered_unsupervised_dataset[0])"
      ],
      "metadata": {
        "colab": {
          "base_uri": "https://localhost:8080/"
        },
        "id": "92FYP1JlUrR0",
        "outputId": "f4968164-842e-4d1f-ea15-ccc1dce3205d"
      },
      "execution_count": 6,
      "outputs": [
        {
          "output_type": "stream",
          "name": "stdout",
          "text": [
            "Dataset({\n",
            "    features: ['text', 'label'],\n",
            "    num_rows: 159\n",
            "})\n",
            "Dataset({\n",
            "    features: ['text', 'label'],\n",
            "    num_rows: 153\n",
            "})\n",
            "Dataset({\n",
            "    features: ['text', 'label'],\n",
            "    num_rows: 306\n",
            "})\n",
            "{'text': 'As a kid I did think the weapon the murderer wielded was cool, however I was a kid and so I was a bit dumb. Even as a dumb kid though the movies plot was stupid and a bit boring when the killer was not using his light knife to kill people. What amazes me is that the movie has a really solid cast in it. What script did they read when agreeing to be in this movie as it is most assuredly boring and only a means to show off a light saber on a very small scale. The plot at times is incomprehensible and the end is totally chaotic. The whole film seems to rotate around aliens and the one weapon. The plot has two kids and some dude having an alien encounter, flash years later and there seems to be a return as it were in the mix. Dead animals and such to be explored and for some reason the one dude gets the weapon of the aliens and proceeds to use it to go on a very light killing spree. Seriously, you just have to wonder why this movie was made, if you are going to have a killer have some good death scenes, if you are going to have alien encounters show more than a weird light vortex thing, and if you are going to have light sabers then call yourself star wars.', 'label': 0}\n",
            "{'text': 'OK, so my summary line is a cheap trick. But the movie is full of them and it gets absurdly praised, so...<br /><br />I caught this one on TV (uncut, as TV here shows all movies, that\\'s for you Americans who might say I didn\\'t like it because I saw a cut TV version - fortunately that\\'s only an US thing), and had no idea about what it was. I switched on, caught the last minutes of a show, and the movie began. Within a minute, I was begging it was a comedy, given the particularly ridiculous clichéd beginning (yes, it\\'s a bad movie-within-the-movie, I know, but what a way to try to keep the viewer interested! I don\\'t even know why I didn\\'t switch channels). And, yes, in fact the movie turned out to be a comedy, albeit an unintentional one.<br /><br />Marina Zudina is pretty enough, but gosh, what a dreadful performance! While casting a foreigner in the role is smart enough (she doesn\\'t talk so bye bye language barrier), yet, sorry, Marina baby, playing mute doesn\\'t mean impersonating Harpo Marx. Her acting is unintentionally funny in many moments, just look at her when she draws an X in the air while stalked by the killer. He wants to kill you, it\\'s no time to play Zorro. We get plenty of \"running upstairs\" stuff passing for tension, as in the worst slashers, and things like pulling a carpet and a bad guy shots the other. Ugh! Will Hollywood ever learn? Yet the best/worst pearl is having a guy electrocuted in a bathtub and... Well, I have never seen anyone being electrocuted to death in a bathtub, but I\\'m sure you can\\'t see the blue cartoon rays in real life, do you? And how about immediately trusting a mean-looking guy because he SAYS he\\'s a cop, and not asking him to show you his credentials? OK, so he turns out to be a real cop. But still, not asking for the badge makes no sense (plot-wise, we could always think the credentials might be phony or he might be a crooked cop. Screen writing 101). And how about the big twist? Don\\'t tell me you didn\\'t see that coming from 200 miles away...<br /><br />I feel sorry for poor old Alec Guinness and his useless stock footage cameo. Now I think about this, what\\'s the point in giving him a \"Mystery Guest Star\" credit... in the END titles? The movie\\'s over, there\\'s no mystery anymore, and everybody and their brother have identified Guinness (even non-movie buffs will recognize \"the old guy from \\'Star Wars\\'\"). Yet better off this way, so we can pretend it\\'s not the late great actor.<br /><br />People keep comparing this to, of all people, Hitchcock. I suppose it has to be John Hitchcock the milkman, as the late Sir Alfred would feel embarrassed out of watching this, let alone making it. And this gets a 6.8/10???? It\\'s Bottom 100 material! But then, we\\'re talking a rating system that allows \\'The Lord of the Rings: The Return of the King\\' to appear as the third best movie ever made (check Top 100), so...<br /><br />2/10.', 'label': 0}\n",
            "{'text': \"If you are feeling bad, I advise you, DO NOT watch this movie. Wonderfully done, I think the best comment is anothers, in that this movie 'puts the prequels of star wars to color by numbers shame'. There is so much to this, it's just breathtaking. The shooting is done well, the acting is superb, and it puts Sadako in to a TOTALLY new light, and will really force you to think a bit more about Ring and it's sequels. It's difficult for me to put this in words, but trust me, this is very much a movie to see without fail. You will enjoy it greatly, though I promise you, you will be VERY depressed by it. Then again, if you expect a happy ending from a Ring movie, you haven't watched any of the others (and I do mean ANY, though some are bittersweet, none end truly happily)\", 'label': -1}\n"
          ]
        }
      ]
    }
  ]
}