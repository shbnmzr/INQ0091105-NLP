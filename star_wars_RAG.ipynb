{
  "nbformat": 4,
  "nbformat_minor": 0,
  "metadata": {
    "colab": {
      "provenance": [],
      "gpuType": "T4"
    },
    "kernelspec": {
      "name": "python3",
      "display_name": "Python 3"
    },
    "language_info": {
      "name": "python"
    },
    "accelerator": "GPU"
  },
  "cells": [
    {
      "cell_type": "markdown",
      "source": [
        "install libraries"
      ],
      "metadata": {
        "id": "ylVE-tjGM7-K"
      }
    },
    {
      "cell_type": "code",
      "source": [
        "!pip install -q transformers\n",
        "!pip install -q \"datasets<=2.18.0\"\n",
        "!pip install -q sentence-transformers\n",
        "!pip install -q langchain\n",
        "!pip install -q langchain_community\n",
        "!pip install -q langchainhub\n",
        "!pip install -q torch\n",
        "!pip install -q numpy\n",
        "!pip install -q faiss-gpu\n",
        "!pip install -q \"bitsandbytes<=0.40.2\"\n",
        "!pip install -q accelerate\n",
        "\n",
        "from langchain_community.embeddings import HuggingFaceBgeEmbeddings\n",
        "from langchain_community.llms import HuggingFacePipeline\n",
        "from langchain.text_splitter import RecursiveCharacterTextSplitter\n",
        "from langchain_community.vectorstores import FAISS\n",
        "from langchain.chains import RetrievalQA\n",
        "from langchain.prompts import PromptTemplate\n",
        "import numpy as np"
      ],
      "metadata": {
        "id": "wCbwZNi9PFU5"
      },
      "execution_count": 1,
      "outputs": []
    },
    {
      "cell_type": "code",
      "source": [
        "from datasets import load_dataset\n",
        "\n",
        "# List available datasets and configurations\n",
        "imdb_dataset = load_dataset(\"imdb\")\n",
        "\n",
        "# Print available splits to ensure correct loading\n",
        "print(imdb_dataset)"
      ],
      "metadata": {
        "colab": {
          "base_uri": "https://localhost:8080/"
        },
        "id": "d74QxXApNHQf",
        "outputId": "4d4c47d0-4483-486e-d68f-ce7279ee3623"
      },
      "execution_count": 2,
      "outputs": [
        {
          "output_type": "stream",
          "name": "stderr",
          "text": [
            "/usr/local/lib/python3.10/dist-packages/huggingface_hub/utils/_token.py:89: UserWarning: \n",
            "The secret `HF_TOKEN` does not exist in your Colab secrets.\n",
            "To authenticate with the Hugging Face Hub, create a token in your settings tab (https://huggingface.co/settings/tokens), set it as secret in your Google Colab and restart your session.\n",
            "You will be able to reuse this secret in all of your notebooks.\n",
            "Please note that authentication is recommended but still optional to access public models or datasets.\n",
            "  warnings.warn(\n"
          ]
        },
        {
          "output_type": "stream",
          "name": "stdout",
          "text": [
            "DatasetDict({\n",
            "    train: Dataset({\n",
            "        features: ['text', 'label'],\n",
            "        num_rows: 25000\n",
            "    })\n",
            "    test: Dataset({\n",
            "        features: ['text', 'label'],\n",
            "        num_rows: 25000\n",
            "    })\n",
            "    unsupervised: Dataset({\n",
            "        features: ['text', 'label'],\n",
            "        num_rows: 50000\n",
            "    })\n",
            "})\n"
          ]
        }
      ]
    },
    {
      "cell_type": "code",
      "source": [
        "import re\n",
        "\n",
        "# Define the word or phrase you want to filter by\n",
        "specific_word = \"Star Wars\"\n",
        "\n",
        "# Define a function to filter texts containing the specific word or phrase\n",
        "def filter_texts(example):\n",
        "    return bool(re.search(rf'\\b{specific_word}\\b', example['text'], re.IGNORECASE))\n",
        "\n",
        "# Apply the filter to the train and test datasets\n",
        "filtered_train_dataset = imdb_dataset['train'].filter(filter_texts)\n",
        "filtered_test_dataset = imdb_dataset['test'].filter(filter_texts)\n",
        "filtered_unsupervised_dataset = imdb_dataset['unsupervised'].filter(filter_texts)\n",
        "\n",
        "# Verify the filtered dataset\n",
        "print(filtered_train_dataset)\n",
        "print(filtered_test_dataset)\n",
        "print(filtered_unsupervised_dataset)\n",
        "\n",
        "print(filtered_train_dataset[0])\n",
        "print(filtered_test_dataset[0])\n",
        "print(filtered_unsupervised_dataset[0])"
      ],
      "metadata": {
        "colab": {
          "base_uri": "https://localhost:8080/"
        },
        "id": "92FYP1JlUrR0",
        "outputId": "6ec3eb89-301d-452d-c03c-29715759229d"
      },
      "execution_count": 3,
      "outputs": [
        {
          "output_type": "stream",
          "name": "stdout",
          "text": [
            "Dataset({\n",
            "    features: ['text', 'label'],\n",
            "    num_rows: 159\n",
            "})\n",
            "Dataset({\n",
            "    features: ['text', 'label'],\n",
            "    num_rows: 153\n",
            "})\n",
            "Dataset({\n",
            "    features: ['text', 'label'],\n",
            "    num_rows: 306\n",
            "})\n",
            "{'text': 'As a kid I did think the weapon the murderer wielded was cool, however I was a kid and so I was a bit dumb. Even as a dumb kid though the movies plot was stupid and a bit boring when the killer was not using his light knife to kill people. What amazes me is that the movie has a really solid cast in it. What script did they read when agreeing to be in this movie as it is most assuredly boring and only a means to show off a light saber on a very small scale. The plot at times is incomprehensible and the end is totally chaotic. The whole film seems to rotate around aliens and the one weapon. The plot has two kids and some dude having an alien encounter, flash years later and there seems to be a return as it were in the mix. Dead animals and such to be explored and for some reason the one dude gets the weapon of the aliens and proceeds to use it to go on a very light killing spree. Seriously, you just have to wonder why this movie was made, if you are going to have a killer have some good death scenes, if you are going to have alien encounters show more than a weird light vortex thing, and if you are going to have light sabers then call yourself star wars.', 'label': 0}\n",
            "{'text': 'OK, so my summary line is a cheap trick. But the movie is full of them and it gets absurdly praised, so...<br /><br />I caught this one on TV (uncut, as TV here shows all movies, that\\'s for you Americans who might say I didn\\'t like it because I saw a cut TV version - fortunately that\\'s only an US thing), and had no idea about what it was. I switched on, caught the last minutes of a show, and the movie began. Within a minute, I was begging it was a comedy, given the particularly ridiculous clichéd beginning (yes, it\\'s a bad movie-within-the-movie, I know, but what a way to try to keep the viewer interested! I don\\'t even know why I didn\\'t switch channels). And, yes, in fact the movie turned out to be a comedy, albeit an unintentional one.<br /><br />Marina Zudina is pretty enough, but gosh, what a dreadful performance! While casting a foreigner in the role is smart enough (she doesn\\'t talk so bye bye language barrier), yet, sorry, Marina baby, playing mute doesn\\'t mean impersonating Harpo Marx. Her acting is unintentionally funny in many moments, just look at her when she draws an X in the air while stalked by the killer. He wants to kill you, it\\'s no time to play Zorro. We get plenty of \"running upstairs\" stuff passing for tension, as in the worst slashers, and things like pulling a carpet and a bad guy shots the other. Ugh! Will Hollywood ever learn? Yet the best/worst pearl is having a guy electrocuted in a bathtub and... Well, I have never seen anyone being electrocuted to death in a bathtub, but I\\'m sure you can\\'t see the blue cartoon rays in real life, do you? And how about immediately trusting a mean-looking guy because he SAYS he\\'s a cop, and not asking him to show you his credentials? OK, so he turns out to be a real cop. But still, not asking for the badge makes no sense (plot-wise, we could always think the credentials might be phony or he might be a crooked cop. Screen writing 101). And how about the big twist? Don\\'t tell me you didn\\'t see that coming from 200 miles away...<br /><br />I feel sorry for poor old Alec Guinness and his useless stock footage cameo. Now I think about this, what\\'s the point in giving him a \"Mystery Guest Star\" credit... in the END titles? The movie\\'s over, there\\'s no mystery anymore, and everybody and their brother have identified Guinness (even non-movie buffs will recognize \"the old guy from \\'Star Wars\\'\"). Yet better off this way, so we can pretend it\\'s not the late great actor.<br /><br />People keep comparing this to, of all people, Hitchcock. I suppose it has to be John Hitchcock the milkman, as the late Sir Alfred would feel embarrassed out of watching this, let alone making it. And this gets a 6.8/10???? It\\'s Bottom 100 material! But then, we\\'re talking a rating system that allows \\'The Lord of the Rings: The Return of the King\\' to appear as the third best movie ever made (check Top 100), so...<br /><br />2/10.', 'label': 0}\n",
            "{'text': \"If you are feeling bad, I advise you, DO NOT watch this movie. Wonderfully done, I think the best comment is anothers, in that this movie 'puts the prequels of star wars to color by numbers shame'. There is so much to this, it's just breathtaking. The shooting is done well, the acting is superb, and it puts Sadako in to a TOTALLY new light, and will really force you to think a bit more about Ring and it's sequels. It's difficult for me to put this in words, but trust me, this is very much a movie to see without fail. You will enjoy it greatly, though I promise you, you will be VERY depressed by it. Then again, if you expect a happy ending from a Ring movie, you haven't watched any of the others (and I do mean ANY, though some are bittersweet, none end truly happily)\", 'label': -1}\n"
          ]
        }
      ]
    },
    {
      "cell_type": "code",
      "source": [
        "from datasets import concatenate_datasets\n",
        "\n",
        "combined_dataset = concatenate_datasets([filtered_train_dataset, filtered_test_dataset, filtered_unsupervised_dataset])\n",
        "\n",
        "print(combined_dataset)\n",
        "\n",
        "print(combined_dataset[0])"
      ],
      "metadata": {
        "colab": {
          "base_uri": "https://localhost:8080/"
        },
        "id": "CQGiZzURKtnh",
        "outputId": "249f4d15-33fc-4b67-8537-9056fa3713b6"
      },
      "execution_count": 4,
      "outputs": [
        {
          "output_type": "stream",
          "name": "stdout",
          "text": [
            "Dataset({\n",
            "    features: ['text', 'label'],\n",
            "    num_rows: 618\n",
            "})\n",
            "{'text': 'As a kid I did think the weapon the murderer wielded was cool, however I was a kid and so I was a bit dumb. Even as a dumb kid though the movies plot was stupid and a bit boring when the killer was not using his light knife to kill people. What amazes me is that the movie has a really solid cast in it. What script did they read when agreeing to be in this movie as it is most assuredly boring and only a means to show off a light saber on a very small scale. The plot at times is incomprehensible and the end is totally chaotic. The whole film seems to rotate around aliens and the one weapon. The plot has two kids and some dude having an alien encounter, flash years later and there seems to be a return as it were in the mix. Dead animals and such to be explored and for some reason the one dude gets the weapon of the aliens and proceeds to use it to go on a very light killing spree. Seriously, you just have to wonder why this movie was made, if you are going to have a killer have some good death scenes, if you are going to have alien encounters show more than a weird light vortex thing, and if you are going to have light sabers then call yourself star wars.', 'label': 0}\n"
          ]
        }
      ]
    },
    {
      "cell_type": "code",
      "source": [
        "from langchain.text_splitter import RecursiveCharacterTextSplitter\n",
        "\n",
        "text_splitter = RecursiveCharacterTextSplitter(\n",
        "    chunk_size = 1000,\n",
        "    chunk_overlap  = 100,\n",
        "    length_function = len,\n",
        "    is_separator_regex=False,\n",
        "    separators=[\n",
        "        \"\\n\\n\",\n",
        "        \".\",\n",
        "        \"\\n\",\n",
        "        \" \",\n",
        "        \"\",\n",
        "    ]\n",
        ")\n",
        "\n",
        "# Extract texts from the dataset\n",
        "texts = combined_dataset[\"text\"]\n",
        "\n",
        "# Concatenate all texts into a single string\n",
        "concatenated_text = \" \".join(texts)\n",
        "\n",
        "texts2 = text_splitter.create_documents([concatenated_text])\n",
        "\n",
        "print(texts2[:2])\n",
        "# print(texts2[1])\n"
      ],
      "metadata": {
        "id": "5kz-subSLVqN",
        "colab": {
          "base_uri": "https://localhost:8080/"
        },
        "outputId": "9351e986-e12c-4fc4-ee10-7cba69265f18"
      },
      "execution_count": 5,
      "outputs": [
        {
          "output_type": "stream",
          "name": "stdout",
          "text": [
            "[Document(page_content='As a kid I did think the weapon the murderer wielded was cool, however I was a kid and so I was a bit dumb. Even as a dumb kid though the movies plot was stupid and a bit boring when the killer was not using his light knife to kill people. What amazes me is that the movie has a really solid cast in it. What script did they read when agreeing to be in this movie as it is most assuredly boring and only a means to show off a light saber on a very small scale. The plot at times is incomprehensible and the end is totally chaotic. The whole film seems to rotate around aliens and the one weapon. The plot has two kids and some dude having an alien encounter, flash years later and there seems to be a return as it were in the mix. Dead animals and such to be explored and for some reason the one dude gets the weapon of the aliens and proceeds to use it to go on a very light killing spree'), Document(page_content='. Seriously, you just have to wonder why this movie was made, if you are going to have a killer have some good death scenes, if you are going to have alien encounters show more than a weird light vortex thing, and if you are going to have light sabers then call yourself star wars. I have just lost three hours of my life to this travesty, and I can honestly say I feel violated. I had read the reviews and heard the warnings, and I thought I was prepared for anything - at best I thought, a faithful (if misguided) attempt at an original adaptation; at worst, a so-good-it\\'s-bad \"Plan 9\" for the new millennium. So when I managed to pick up a copy in Walmart while in Florida and brought it back to the UK, I joked to my friends \"Prepare for the worst movie ever made!\" Oh, cruel Karma. There is absolutely NOTHING to recommend this film. The \"special\" effects look like the work of a first year design student using a Spectrum ZX81')]\n"
          ]
        }
      ]
    },
    {
      "cell_type": "code",
      "source": [
        "from langchain.embeddings import CacheBackedEmbeddings, HuggingFaceEmbeddings\n",
        "from langchain.vectorstores import FAISS\n",
        "from langchain.storage import LocalFileStore\n",
        "\n",
        "store = LocalFileStore(\"./cache/\")\n",
        "\n",
        "embed_model_id = 'sentence-transformers/all-MiniLM-L6-v2'\n",
        "\n",
        "core_embeddings_model = HuggingFaceEmbeddings(\n",
        "    model_name=embed_model_id\n",
        ")\n",
        "\n",
        "embedder = CacheBackedEmbeddings.from_bytes_store(\n",
        "    core_embeddings_model, store, namespace=embed_model_id\n",
        ")\n",
        "\n",
        "vector_store = FAISS.from_documents(texts2, embedder)"
      ],
      "metadata": {
        "colab": {
          "base_uri": "https://localhost:8080/"
        },
        "id": "hdIQeuwdhCEN",
        "outputId": "edc77d4e-3060-479d-a963-e3f04111c5c2"
      },
      "execution_count": 6,
      "outputs": [
        {
          "output_type": "stream",
          "name": "stderr",
          "text": [
            "/usr/local/lib/python3.10/dist-packages/huggingface_hub/file_download.py:1132: FutureWarning: `resume_download` is deprecated and will be removed in version 1.0.0. Downloads always resume when possible. If you want to force a new download, use `force_download=True`.\n",
            "  warnings.warn(\n"
          ]
        }
      ]
    },
    {
      "cell_type": "code",
      "source": [
        "query = \"What is Star Wars?\"\n",
        "embedding_vector = core_embeddings_model.embed_query(query)\n",
        "docs = vector_store.similarity_search_by_vector(embedding_vector, k = 4)\n",
        "\n",
        "for page in docs:\n",
        "  print(page.page_content)"
      ],
      "metadata": {
        "colab": {
          "base_uri": "https://localhost:8080/"
        },
        "id": "P9_SSCqphqL-",
        "outputId": "f3ddf3ea-d6ca-4810-cf3e-197bc7e82bb5"
      },
      "execution_count": 7,
      "outputs": [
        {
          "output_type": "stream",
          "name": "stdout",
          "text": [
            ". Star Wars is more than a movie. it's an idea.<br /><br />How, may you ask? i shall explain. star wars touches on the most universal of stereotypes, good vs evil. it does this so obviously, so profoundly, that literally any person from any environment can understand. Episode VI does the very well, concluding the epic struggle between a son and his used and manipulated father, yet also, with the addition of the prequels, reveals even more to the hinted back story. suddenly, it's Darth Vader at the front, and viewers realize that it's the story about Anakin, not just Luke. but even before 1-3, there was amazing depth to it all. it felt real, as if capsule fell from the sky into Lucas's lap, detailing a historical account of a galaxy far, far away.<br /><br />Star Wars is definitely something far above the norm, and i must admit, whenever i see them, particularly this one, i feel very small. i feel as though i've been thrust into a world where good and evil are so clearly defined\n",
            "...it's a Northern Illinois University thing).<br /><br />I can't review \"Star Wars\" as a movie. It represents absolutely everything good, fun and magical about my childhood. There's no separating it in my mind from Christmases, birthdays, summers and winters growing up. In the winter, my friends and I would build snow forts and pretend we were on Hoth (I was always Han Solo). My friends' dad built them a kick-ass tree house, and that served as the Ewok village. They also had a huge pine tree whose bottom branches were high enough to create a sort of cave underneath it, and this made a great spot to pretend we were in Yoda's home. I am unabashedly dorky when it comes to \"Star Wars\" and I think people either just understand that or they don't. I don't get the appeal of \"Lord of the Rings\" or \"Star Trek\" but I understand the rabid flocks of fans that follow them because I am a rabid fan of George Lucas's films\n",
            ". A very weak effort from Roger Corman. Skip it. A Roger Corman rip-off assembled for what appears to be virtually zero budget. All of the special effects were originally used in \"Battle Beyond the Stars\", and I suspect a fair amount of the props, costumes and sets were re-used from other sources as well. The story seems to have been written around these elements, so this isn't really a movie as much as it's a recycling project. Third-rate \"Star Wars\" junk wasn't needed then or now. This movie is a desperate attempt to ride the skirtales of the success of the Star Wars movies\n",
            ". (little creatures who looks little bears)<br /><br />This is for sure one of the most exciting star wars of all! I was but a babe in arms when George Lucas was wowing the world with his out of this world Saga chronicling the adventures of young Luke Skywalker and the notorious Darth Vadar but even today 20 years on I can appreciate the genius that is Lucas and the incredible imagination he's been blessed with. In A New Hope Lucas showed a new way to tell stories as he introduced us to such memorable characters as the plucky Princess Leia, the Rougish Han Solo and the spirited Luke Skywalker as well as that best loved of villains, the sinister Darth Vadar. In The Empire Strikes Back he went all out to show us Special Effects can add to a tale and managed to something no-one thought you could do on screen. He made a film with no specific end or beginning and it went down a treat. Return of the Jedi is a fitting end to a Saga that will stand the test of time\n"
          ]
        }
      ]
    },
    {
      "cell_type": "code",
      "source": [
        "query = \"Who is darth vader?\"\n",
        "embedding_vector = core_embeddings_model.embed_query(query)\n",
        "docs = vector_store.similarity_search_by_vector(embedding_vector, k = 4)\n",
        "\n",
        "for page in docs:\n",
        "  print(page.page_content)"
      ],
      "metadata": {
        "colab": {
          "base_uri": "https://localhost:8080/"
        },
        "id": "zNLl3MD0cBUN",
        "outputId": "420fa9db-83f1-440e-aef2-b71cb4f7fe7a"
      },
      "execution_count": 8,
      "outputs": [
        {
          "output_type": "stream",
          "name": "stdout",
          "text": [
            ".<br /><br />By the time we get to the third act, though, the pace picks up again, as we intercut between the Ewoks battle against the troops, Lando and the Rebel Forces launching an attack against the Empire's all-new half-completed Death Star, and Luke's final showdown with Darth Vader and the Emperor. The latter ties with the Jabba Palace sequence as the highlight of the movie. Mark Hamill flexes his acting chops once again as Luke Skywalker in these scenes, and watching him as a fully matured Jedi Knight makes for an unforgettable performance. Also, as iconic as James Earl Jones' voice as Darth Vader is, he is rivaled only by the shriveled, crone-like Emperor, played with deliciously raspy, frightening evil by Ian McDiarmid. The tension between this trio heightens the excitement of this climactic moment, which is appropriately darkly lit and menacingly underscored\n",
            ". The other Rebel characters certainly work in his shadow. The romance between Leia (Carrie Fisher) and Solo is all but non-existant, unlike in \"Empire\". In fact only Leia's character is developed in ROTJ, Solo's character seems to fade as the facets of his personality have become too familiar in the first two films.<br /><br />Their roles are consigned to working alongside the Rebels to destroy an all new Death Star that nears completion. This time the Emperor himself is overseeing the final stages of construction. The Empire intends to crush the Rebellion once and for all, while the Emperor himself schemes to bring the now powerful Skywalker to his side to work alongside (or is that replace?) Darth Vader. The Emperor is a different kind of evil for this film, less cunning than Governor Tarkin (Peter Cushing) from \"Star Wars\", more deeply psychologically dark than anything else. Played brilliantly by Ian McDiarmid, the Emperor is just one of those characters you love to hate\n",
            ". And I won't waste any space talking about the apocalyptic disaster that is Jar Jar Binks.<br /><br />Poor Ewan McGregor, Liam Neeson, and Natalie Portman!! Three of the finest actors to grace the screen today, and they have nothing at all to work with. Meanwhile all the dialogue goes to Jar Jar and Anakin, played awfully by Jake Lloyd. Sidenote: Am I the only one concerned with the fact that through the whole movie everyone calls the future Darth Vader \"Annie\"???<br /><br />Darth Maul would be a formidable villain, assuming, of course, that he had any lines, which he doesn't. He is silent during his entire lightsaber duel with Neeson and McGregor, eliminating the verbal duel that was at the heart of Vader's fights with Luke in the original series. His role seems detached and his presence does not seem to effect the sequence of events in the least.<br /><br />And let me say this: there are too many effects\n",
            ".<br /><br />This cute factor aside, the film is a brilliant full circle AND evolution of the saga. Following on from the conclusion of \"The Empire Strikes Back\", Luke Skywalker (Mark Hamill) follows his Rebel Alliance friends to Tatooine, his home planet, to rescue Han Solo (Harrison Ford), the space pirate turned Rebel hero who was captured by Jabba the Hutt for overdue debts.<br /><br />Skywalker is a changed man since leaving Tatooine with Ben 'Obi Wan' Kenobi (Alec Guiness) to fight the evil Empire. Now swathed all in black, Luke's discovery of his origins have left him confused and torn. His psychological make up is not as strong as his outward appearance would suggest. While he might aim to always assist his Rebel friends, he yearns for another chance to confront the evil Darth Vader again, despite his unassuredness as to whether he will destroy him or eventually turn to the Dark Side and join Vader at the Emperor's side\n"
          ]
        }
      ]
    },
    {
      "cell_type": "code",
      "source": [
        "query = \"Who is luke skywalker's father?\"\n",
        "embedding_vector = core_embeddings_model.embed_query(query)\n",
        "docs = vector_store.similarity_search_by_vector(embedding_vector, k = 4)\n",
        "\n",
        "for page in docs:\n",
        "  print(page.page_content)"
      ],
      "metadata": {
        "id": "x1dsey-bh3wv",
        "colab": {
          "base_uri": "https://localhost:8080/"
        },
        "outputId": "aa78ff4f-719d-4428-897f-49e137cb6677"
      },
      "execution_count": 9,
      "outputs": [
        {
          "output_type": "stream",
          "name": "stdout",
          "text": [
            ". Leia kills Jabba and goes after Han,Luke and Chewie as well c3po and R2. <br /><br />Everybody's safe again,Luke decides to go to Dagoba to complete his training as a Jedi,as well his promise to Yoda. The problem is that Yoda is too old and sick, since he already has 900 years old, and before he dies, Yoda says to Luke that he does not need more training,but to really be a Jedi, he must fight with Vader again. He confirms to Luke that Vader is Luke's dad, and that there is another Skywalker besides Luke. In his last moments, Yoda asks to Luke to remember his advices about the temptation of the dark side, and to Luke transmit his Jedi knowledge to other people. When Yoda dies,Obi wan's spirit shows up to Luke and tells him that Luke's father killed his good side Anakin to become Darth Vader, and also that he is more machine than a man since he became a sith. Luke stays worried about killing his own dad, and says that he feels that his father still has kindness\n",
            ".<br /><br />This cute factor aside, the film is a brilliant full circle AND evolution of the saga. Following on from the conclusion of \"The Empire Strikes Back\", Luke Skywalker (Mark Hamill) follows his Rebel Alliance friends to Tatooine, his home planet, to rescue Han Solo (Harrison Ford), the space pirate turned Rebel hero who was captured by Jabba the Hutt for overdue debts.<br /><br />Skywalker is a changed man since leaving Tatooine with Ben 'Obi Wan' Kenobi (Alec Guiness) to fight the evil Empire. Now swathed all in black, Luke's discovery of his origins have left him confused and torn. His psychological make up is not as strong as his outward appearance would suggest. While he might aim to always assist his Rebel friends, he yearns for another chance to confront the evil Darth Vader again, despite his unassuredness as to whether he will destroy him or eventually turn to the Dark Side and join Vader at the Emperor's side\n",
            ". Luke, Lando, Leia, Chewie, and the droids all travel to Tatooine to rescue the frozen Han Solo from the crime Lord; Jabba The Hutt. After Han has been rescued, and Jabba defeated, Luke returns to Dagobah to find a dying Yoda where he learns the awful truth; Darth Vader is in fact his father. The rebel heroes regroup with the Rebel Fleet. Now joined by other species and races including the Mon Calamari the Rebels must make a all-or-nothing plan of attack to destroy the Death Star before it is completed. While Lando heads the space attack in the Millennium Falcon, the Rebel heroes must disable the Death Star's shield generator on the Forest Moon Of Endor. It is here that the Rebels happen upon the furry, but mighty Ewoks. During the the two part intense battle, a third battle must take place as Luke willingly delivers himself to Vader in an attempt to convince him to leave the Dark Side\n",
            ". Obi Wan tells Luke that his twin sister is Leia, and says the reasons why Luke and Leia were separated since babies. He gives his last advice to Luke saying that if he refuses to kill Vader, the emperor will win the war.<br /><br />At the same time, the Emperor says to Vader that he must give Luke to him when he shows up, since Luke is stronger than before, and they both needs to combine their efforts to bring Luke to the dark side.<br /><br />Now we are going to have one of the best battles from the star war series,when the Rebel Alliance plans to attack the new space station, the '' Death Star 2'', Luke will confront Vader and the Emperor, and Leia, Han and chewie needs to turn off the 'Death star 2' power field, with the help of the EWOKS\n"
          ]
        }
      ]
    },
    {
      "cell_type": "code",
      "source": [
        "query = \"Why were the sequals worse than the originals or the prequals?\"\n",
        "embedding_vector = core_embeddings_model.embed_query(query)\n",
        "docs = vector_store.similarity_search_by_vector(embedding_vector, k = 4)\n",
        "\n",
        "for page in docs:\n",
        "  print(page.page_content)"
      ],
      "metadata": {
        "colab": {
          "base_uri": "https://localhost:8080/"
        },
        "id": "noHkAgWQcJm7",
        "outputId": "b648ce3e-4587-43c0-cbd0-305e868410a3"
      },
      "execution_count": 10,
      "outputs": [
        {
          "output_type": "stream",
          "name": "stdout",
          "text": [
            ". Never fear, it appears that it's now available on commercial DVD.)<br /><br />It says a great deal about inflation in the movie business that the remake had a \"small\" budget of \"only\" $5 million. That would have been a lot of money for the original filmmakers. I also wonder why here in the States we had to wait until September of 2002 to see it when the first comments about it, from a viewer in Turkey, are from February!<br /><br />But whenever it aired, my reaction would be the same: Why did they bother to make it at all? There is so little of the original here that it is essentially a different work. They have taken the story and drained it of its blood. And what does happen goes beyond problems with temporal discontinuities and paradoxes; these people behave without logic or motivation\n",
            ".). While it maintains the quality of the previous 20 chapters, Vol. II feels slightly shorter in terms of its overall length and atmosphere due to the fact that most of the situations only take place in two worlds (one of them serves as a prologue to Revenge of the Sith as Supreme Chancellor Palpatine is kidnapped by Grievous). However, Vol. II succeeds in adding depth to the tragic character Anakin whose path to the Dark Side is almost inevitable. Personally, I really like the 'Ghost Hand' concept, in which Anakin's mechanical right hand can be related to the myth of a mysterious tribe, hence giving much legendary status to the Skywalker legacy.<br /><br />Aside from its authentic license, Clone Wars is accompanied by the classic John William score as well as other additional score that is reminiscent to other cartoon shows you can think of. Perhaps the only thing that bugs me is its artificial synthesized music on certain parts of its entire run\n",
            ". And then they learned that, well maybe its not that bad after all. If you can't accept a quality show for what it is, not what it should be in your mind, then go elsewhere. Or try becoming a producer on the show and then see what you can do.<br /><br />The sets on Enterprise remind me very much of the Defiant from Deep Space Nine. They often appear cold and have an eerie look of modern structure to them and they cry out that they belong to the military. Perhaps that why the crew of the USS Enterprise (aka flagship of the American fleet) like it so much. They are striking sets, and represent the show perfectly.<br /><br />Rick Berman 'the overlord of the empire' as John Logan so accurately put it and his counterpart Brannon Braga has hit the nail on the head exactly where they should have, and in all the right places. Whether that be technicalities, visuals, sound, editing or score\n",
            ". One could very easily miss them altogether.<br /><br />Subtelty is all very well, but it's a shame that none of these possible deeper plot threads are ever tied up; the end of episode 8 is -not- a proper ending. The series was supposed to continue on for a few more episodes, but alas the project ran into murky waters at that point. And that's why BGC is so tricky to judge; it's an unfinished piece (a sequel tried to sort of tie everything up but didn't really succeed). It's as if Return of the Jedi was missing from the first Star Wars trilogy, for instance. And that's quite a shame, as the -promise- certainly is there.<br /><br />If the series had lived to see it's originally planned ending, it might have become the masterpiece it's -said- to be. As it stands, it's a good, solid series with plenty to enjoy and a few flaws that don't get in the way too much. Give it a go, see what you think\n"
          ]
        }
      ]
    },
    {
      "cell_type": "code",
      "source": [
        "query = \"Were the prequals worse than the orginals?\"\n",
        "embedding_vector = core_embeddings_model.embed_query(query)\n",
        "docs = vector_store.similarity_search_by_vector(embedding_vector, k = 4)\n",
        "\n",
        "for page in docs:\n",
        "  print(page.page_content)"
      ],
      "metadata": {
        "colab": {
          "base_uri": "https://localhost:8080/"
        },
        "id": "LED0H-U3cP2-",
        "outputId": "1bba8153-53e3-4508-825e-0e534d5f1acc"
      },
      "execution_count": 11,
      "outputs": [
        {
          "output_type": "stream",
          "name": "stdout",
          "text": [
            ".<br /><br />It's 1976 and we're still playing about in latex romper-suits. <br /><br />That's about it really. Some movies have an entertainment value in the 'so bad it's good' category. This one doesn't even manage that. It wouldn't even entertain kids. 'Crash Corrigan's' stuff from the 1930's has got more going for it. This is just about one of the dumbest things I've ever seen. Maybe not a worst movie ever contender, but if you haven't seen that many bad ones, this could easily make your Top Ten Worst List. When you consider what was achieved in 1933 with the original \"King Kong\", you've got to ask yourself why anyone would stoop so low as to produce this debacle. Then, taking it one step further and realizing that the quantum leap to \"Star Wars\" the following year achieved a new level in sci-fi entertainment, this offering will make you laugh and cry at the same time\n",
            ". Elga, the beautiful simple and well intentioned lady that was forced to marry the count provides the love triangle. The count missing eye points to a terrible past. The Englishman is not what the count thinks and is a terrible treat to him. There is also the terrible hunchback, crocodiles and even the side appearance of some torture instruments.<br /><br />Boris Karlloff, here in a support role, makes an strong, but somewhat stiff, presence. The other actors (and direction) are the symbol of an era the strong representations of black and white movies. Since the beginning there is no doubt of who is the evil guy, who is the good one. Even traitors and stiffs can be identified somewhat easily. It is now clear that the true golden age of American film was from the mid-60s until just before the release of Star Wars. Before then, there was too much Hays Code-constricted pap\n",
            "...but the WOMEN...and the CHILDREN TOO!\" \"Ooh am I a bad guy. I'm such an evil dude that I use cliches to describe my horrible deeds.\" *NO MORE SPOILERS* The plot is so delightfully convoluted that thousands of viewers at home will be able to watch this movie in less than half it's running time when it comes out on VHS. They can all simply fast-forward to the action sequences and not miss anything important in the film. In fact they might as well fast-forward through the whole thing, given that the ending credits are by far the movie's finest sequence.<br /><br />I'm getting tired of writing, so I'll just say that there are so many problems with this movie that this review hasn't even nearly given it justice. PLEASE, DON'T DISMISS THIS REVIEW JUST BECAUSE IT'S NEGATIVE. IF YOU HAVEN'T SEEN THE MOVIE YET, PLEASE, WAIT TILL COMES OUT ON VIDEO. AT LEAST THEN YOU CAN GET THE PLEASURE OF TAKING THE TAPE OUT OF THE MACHINE AND SMASHING IT TO BITS IN FRUSTRATION\n",
            ". It's not for everyone.<br /><br />But in a bizarre turn of events, without Franco's influence on their culture Spanish horror sort of dried up in the late 1970s, when their Gothic castles and demonic orgies suddenly found themselves passé when compared to new sensations like JAWS and the STAR WARS phenomenon. And without Franco's constraints their were suddenly a flood of overtly graphic thrillers that came tumbling out of the pipes in the very late 70s/early 80s, of which BLACK CANDLES is perhaps the best known due to it's emphasis on sexual deviancy with a barnyard animal. Larraz' major horror films have always revolved around sexual taboos (the lesbianism of VAMPYRES, the incest of SCREAM AND DIE & DEVIATION) but here the effect of the depravity is to overshadow the rest of the production. Nobody cares about anything else but the traditionally censored trip to the Goat Barn, and watching a cut version without the scene in the barn is almost an exercise in pointlessness\n"
          ]
        }
      ]
    },
    {
      "cell_type": "code",
      "source": [
        "from transformers import GPT2Tokenizer, GPT2LMHeadModel\n",
        "\n",
        "# Load pre-trained model and tokenizer\n",
        "model_name = \"gpt2\"\n",
        "tokenizer = GPT2Tokenizer.from_pretrained(model_name)\n",
        "model = GPT2LMHeadModel.from_pretrained(model_name)\n",
        "\n",
        "model.eval()"
      ],
      "metadata": {
        "colab": {
          "base_uri": "https://localhost:8080/"
        },
        "id": "ww6jHQT_eLCG",
        "outputId": "6088a8f1-dc73-4b64-e902-7546562d58e7"
      },
      "execution_count": 12,
      "outputs": [
        {
          "output_type": "execute_result",
          "data": {
            "text/plain": [
              "GPT2LMHeadModel(\n",
              "  (transformer): GPT2Model(\n",
              "    (wte): Embedding(50257, 768)\n",
              "    (wpe): Embedding(1024, 768)\n",
              "    (drop): Dropout(p=0.1, inplace=False)\n",
              "    (h): ModuleList(\n",
              "      (0-11): 12 x GPT2Block(\n",
              "        (ln_1): LayerNorm((768,), eps=1e-05, elementwise_affine=True)\n",
              "        (attn): GPT2Attention(\n",
              "          (c_attn): Conv1D()\n",
              "          (c_proj): Conv1D()\n",
              "          (attn_dropout): Dropout(p=0.1, inplace=False)\n",
              "          (resid_dropout): Dropout(p=0.1, inplace=False)\n",
              "        )\n",
              "        (ln_2): LayerNorm((768,), eps=1e-05, elementwise_affine=True)\n",
              "        (mlp): GPT2MLP(\n",
              "          (c_fc): Conv1D()\n",
              "          (c_proj): Conv1D()\n",
              "          (act): NewGELUActivation()\n",
              "          (dropout): Dropout(p=0.1, inplace=False)\n",
              "        )\n",
              "      )\n",
              "    )\n",
              "    (ln_f): LayerNorm((768,), eps=1e-05, elementwise_affine=True)\n",
              "  )\n",
              "  (lm_head): Linear(in_features=768, out_features=50257, bias=False)\n",
              ")"
            ]
          },
          "metadata": {},
          "execution_count": 12
        }
      ]
    },
    {
      "cell_type": "code",
      "source": [
        "query = \"What is Star Wars?\"\n",
        "\n",
        "# Set the padding token to the EOS token\n",
        "tokenizer.pad_token = tokenizer.eos_token\n",
        "\n",
        "encoding = tokenizer.encode_plus(query, return_tensors=\"pt\", padding=True)\n",
        "input_ids = encoding[\"input_ids\"]\n",
        "attention_mask = encoding[\"attention_mask\"]\n",
        "\n",
        "# Generate text with attention mask\n",
        "output = model.generate(\n",
        "    input_ids,\n",
        "    attention_mask=attention_mask,\n",
        "    max_length=100,\n",
        "    num_beams=1,\n",
        "    num_return_sequences=1,\n",
        "    temperature=1,\n",
        "    top_k=50,\n",
        "    top_p=1.0,\n",
        "    do_sample=True\n",
        ")\n",
        "\n",
        "# Decode and print the generated text\n",
        "generated_text = tokenizer.decode(output.tolist()[0], skip_special_tokens=True)\n",
        "print(generated_text)"
      ],
      "metadata": {
        "colab": {
          "base_uri": "https://localhost:8080/"
        },
        "id": "ooyf1Y16w1Nj",
        "outputId": "554019ee-2eaa-4a80-b983-7edeebb71507"
      },
      "execution_count": 35,
      "outputs": [
        {
          "output_type": "stream",
          "name": "stderr",
          "text": [
            "Setting `pad_token_id` to `eos_token_id`:50256 for open-end generation.\n"
          ]
        },
        {
          "output_type": "stream",
          "name": "stdout",
          "text": [
            "What is Star Wars?\n",
            "\n",
            "The answer to your question 'why the hell do I keep putting up new characters? Why is Star Wars being seen like it's all that good? Why is this so good?'\n",
            "\n",
            "Star Wars is also a film, a video game, an animated film, and a TV series, with everything. It's the main engine behind what we would call a film franchise - a narrative, and that's exactly the premise of the original Star Wars trilogy - but also\n"
          ]
        }
      ]
    },
    {
      "cell_type": "code",
      "source": [
        "query = \"What is Star Wars?\"\n",
        "\n",
        "# Set the padding token to the EOS token\n",
        "tokenizer.pad_token = tokenizer.eos_token\n",
        "\n",
        "encoding = tokenizer.encode_plus(query, return_tensors=\"pt\", padding=True)\n",
        "input_ids = encoding[\"input_ids\"]\n",
        "attention_mask = encoding[\"attention_mask\"]\n",
        "\n",
        "# Generate text with attention mask\n",
        "output = model.generate(\n",
        "    input_ids,\n",
        "    attention_mask=attention_mask,\n",
        "    max_length=100,\n",
        "    num_beams=1,\n",
        "    num_return_sequences=1,\n",
        "    temperature=1.5,\n",
        "    top_k=50,\n",
        "    top_p=1.0,\n",
        "    do_sample=True\n",
        ")\n",
        "\n",
        "# Decode and print the generated text\n",
        "generated_text = tokenizer.decode(output.tolist()[0], skip_special_tokens=True)\n",
        "print(generated_text)"
      ],
      "metadata": {
        "colab": {
          "base_uri": "https://localhost:8080/"
        },
        "id": "oom_0QpyeYWu",
        "outputId": "2a686ea7-d612-4c25-d868-be17aa7349bf"
      },
      "execution_count": 36,
      "outputs": [
        {
          "output_type": "stream",
          "name": "stderr",
          "text": [
            "Setting `pad_token_id` to `eos_token_id`:50256 for open-end generation.\n"
          ]
        },
        {
          "output_type": "stream",
          "name": "stdout",
          "text": [
            "What is Star Wars?\n",
            "\n",
            "That question gets all the way to the right one on here at Star Trek, obviously, but Star Wars is like anything on television—a television movie that tells a narrative and what you learn in the story is like a book…\n",
            "\n",
            "That is an example, no one wants to be tied back to this movie—for some reason.\n",
            "\n",
            "Of course that happens by chance but some of its influences are as good as a movie's best stuff. Just because\n"
          ]
        }
      ]
    },
    {
      "cell_type": "code",
      "source": [
        "query = \"What is Star Wars?\"\n",
        "\n",
        "# Set the padding token to the EOS token\n",
        "tokenizer.pad_token = tokenizer.eos_token\n",
        "\n",
        "encoding = tokenizer.encode_plus(query, return_tensors=\"pt\", padding=True)\n",
        "input_ids = encoding[\"input_ids\"]\n",
        "attention_mask = encoding[\"attention_mask\"]\n",
        "\n",
        "# Generate text with attention mask\n",
        "output = model.generate(\n",
        "    input_ids,\n",
        "    attention_mask=attention_mask,\n",
        "    max_length=100,\n",
        "    num_beams=1,\n",
        "    num_return_sequences=1,\n",
        "    temperature=3.0,\n",
        "    top_k=50,\n",
        "    top_p=1.0,\n",
        "    do_sample=True\n",
        ")\n",
        "\n",
        "# Decode and print the generated text\n",
        "generated_text = tokenizer.decode(output.tolist()[0], skip_special_tokens=True)\n",
        "print(generated_text)"
      ],
      "metadata": {
        "colab": {
          "base_uri": "https://localhost:8080/"
        },
        "id": "btub2ADixMfd",
        "outputId": "4ebc125a-3aba-4563-e1bb-844c6841501c"
      },
      "execution_count": 37,
      "outputs": [
        {
          "output_type": "stream",
          "name": "stderr",
          "text": [
            "Setting `pad_token_id` to `eos_token_id`:50256 for open-end generation.\n"
          ]
        },
        {
          "output_type": "stream",
          "name": "stdout",
          "text": [
            "What is Star Wars? As you could hear above, many fanboy stories seem an impossible story – I'd always been impressed in 'An Middling Age'? You know one that you may've written back and made some progress. 'The Night War Trilogy', you're more correct because some had great adventures before coming through! How about yours as your career? That may go in for debate but with our love! 'Rogue-Net: Rogue Nation Redux', or if not simply the series which has\n"
          ]
        }
      ]
    },
    {
      "cell_type": "code",
      "source": [
        "query = \"What is Star Wars?\"\n",
        "\n",
        "# Set the padding token to the EOS token\n",
        "tokenizer.pad_token = tokenizer.eos_token\n",
        "\n",
        "encoding = tokenizer.encode_plus(query, return_tensors=\"pt\", padding=True)\n",
        "input_ids = encoding[\"input_ids\"]\n",
        "attention_mask = encoding[\"attention_mask\"]\n",
        "\n",
        "# Generate text with attention mask\n",
        "output = model.generate(\n",
        "    input_ids,\n",
        "    attention_mask=attention_mask,\n",
        "    max_length=100,\n",
        "    num_beams=1,\n",
        "    num_return_sequences=1,\n",
        "    temperature=10.0,\n",
        "    top_k=50,\n",
        "    top_p=1.0,\n",
        "    do_sample=True\n",
        ")\n",
        "\n",
        "# Decode and print the generated text\n",
        "generated_text = tokenizer.decode(output.tolist()[0], skip_special_tokens=True)\n",
        "print(generated_text)"
      ],
      "metadata": {
        "colab": {
          "base_uri": "https://localhost:8080/"
        },
        "id": "7D91tqPvxbSj",
        "outputId": "5d4f3dbc-2aef-46b6-94a4-bc3917601772"
      },
      "execution_count": 38,
      "outputs": [
        {
          "output_type": "stream",
          "name": "stderr",
          "text": [
            "Setting `pad_token_id` to `eos_token_id`:50256 for open-end generation.\n"
          ]
        },
        {
          "output_type": "stream",
          "name": "stdout",
          "text": [
            "What is Star Wars? Well most readers can answer one last questions while asking any or most or no such, at worst the same few: Do Disney movies, on their entire scale never contain action with no emotion as was rumored, in this age even such big events involving violence have their villains in question which make such massive effects practically insignificant with most Starring movies going off air on one specific spot from such scene's final few minutes; I've known such people at conventions when talking movies over a television\n"
          ]
        }
      ]
    }
  ]
}