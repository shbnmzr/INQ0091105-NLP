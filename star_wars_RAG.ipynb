{
  "nbformat": 4,
  "nbformat_minor": 0,
  "metadata": {
    "colab": {
      "provenance": [],
      "gpuType": "T4"
    },
    "kernelspec": {
      "name": "python3",
      "display_name": "Python 3"
    },
    "language_info": {
      "name": "python"
    },
    "accelerator": "GPU"
  },
  "cells": [
    {
      "cell_type": "markdown",
      "source": [
        "install libraries"
      ],
      "metadata": {
        "id": "ylVE-tjGM7-K"
      }
    },
    {
      "cell_type": "code",
      "source": [
        "!pip install -q transformers\n",
        "!pip install -q \"datasets<=2.18.0\"\n",
        "!pip install -q sentence-transformers\n",
        "!pip install -q langchain\n",
        "!pip install -q langchain_community\n",
        "!pip install -q langchainhub\n",
        "!pip install -q torch\n",
        "!pip install -q faiss-gpu\n",
        "!pip install -q \"bitsandbytes<=0.40.2\"\n",
        "\n",
        "\n",
        "from langchain_community.embeddings import HuggingFaceBgeEmbeddings\n",
        "from langchain_community.llms import HuggingFacePipeline\n",
        "from langchain.text_splitter import RecursiveCharacterTextSplitter\n",
        "from langchain_community.vectorstores import FAISS\n",
        "from langchain.chains import RetrievalQA\n",
        "from langchain.prompts import PromptTemplate"
      ],
      "metadata": {
        "id": "wCbwZNi9PFU5"
      },
      "execution_count": 135,
      "outputs": []
    },
    {
      "cell_type": "markdown",
      "source": [
        "We are going to use the imdb dataset provided to us by huggingface. The dataset is easy to use and to load."
      ],
      "metadata": {
        "id": "QWKRID9dExI8"
      }
    },
    {
      "cell_type": "code",
      "source": [
        "from datasets import load_dataset\n",
        "\n",
        "# List available datasets and configurations\n",
        "imdb_dataset = load_dataset(\"imdb\")\n",
        "\n",
        "# Print available splits to ensure correct loading\n",
        "print(imdb_dataset)"
      ],
      "metadata": {
        "colab": {
          "base_uri": "https://localhost:8080/"
        },
        "id": "d74QxXApNHQf",
        "outputId": "23e09c6d-0dc0-46a2-f522-11d505330a86"
      },
      "execution_count": 136,
      "outputs": [
        {
          "output_type": "stream",
          "name": "stdout",
          "text": [
            "DatasetDict({\n",
            "    train: Dataset({\n",
            "        features: ['text', 'label'],\n",
            "        num_rows: 25000\n",
            "    })\n",
            "    test: Dataset({\n",
            "        features: ['text', 'label'],\n",
            "        num_rows: 25000\n",
            "    })\n",
            "    unsupervised: Dataset({\n",
            "        features: ['text', 'label'],\n",
            "        num_rows: 50000\n",
            "    })\n",
            "})\n"
          ]
        }
      ]
    },
    {
      "cell_type": "markdown",
      "source": [
        "The imdb datset comes with 3 seperate sets of data as can be seen above: train, test, and unsupervised. For our applicaiton we only want the text to give the LLM to train. It does not have to be labeled so we can treat the data as all unsupervised. We will combine all the data into a single dataset."
      ],
      "metadata": {
        "id": "NaEkrShlE58W"
      }
    },
    {
      "cell_type": "code",
      "source": [
        "from datasets import concatenate_datasets\n",
        "\n",
        "combined_dataset = concatenate_datasets([imdb_dataset['train'], imdb_dataset['test'], imdb_dataset['unsupervised']])\n",
        "\n",
        "print(combined_dataset)\n",
        "\n",
        "print(combined_dataset[0])"
      ],
      "metadata": {
        "colab": {
          "base_uri": "https://localhost:8080/"
        },
        "id": "92FYP1JlUrR0",
        "outputId": "6b7a11f2-05b8-4ed9-f576-32e6b333e870"
      },
      "execution_count": 137,
      "outputs": [
        {
          "output_type": "stream",
          "name": "stdout",
          "text": [
            "Dataset({\n",
            "    features: ['text', 'label'],\n",
            "    num_rows: 100000\n",
            "})\n",
            "{'text': 'I rented I AM CURIOUS-YELLOW from my video store because of all the controversy that surrounded it when it was first released in 1967. I also heard that at first it was seized by U.S. customs if it ever tried to enter this country, therefore being a fan of films considered \"controversial\" I really had to see this for myself.<br /><br />The plot is centered around a young Swedish drama student named Lena who wants to learn everything she can about life. In particular she wants to focus her attentions to making some sort of documentary on what the average Swede thought about certain political issues such as the Vietnam War and race issues in the United States. In between asking politicians and ordinary denizens of Stockholm about their opinions on politics, she has sex with her drama teacher, classmates, and married men.<br /><br />What kills me about I AM CURIOUS-YELLOW is that 40 years ago, this was considered pornographic. Really, the sex and nudity scenes are few and far between, even then it\\'s not shot like some cheaply made porno. While my countrymen mind find it shocking, in reality sex and nudity are a major staple in Swedish cinema. Even Ingmar Bergman, arguably their answer to good old boy John Ford, had sex scenes in his films.<br /><br />I do commend the filmmakers for the fact that any sex shown in the film is shown for artistic purposes rather than just to shock people and make money to be shown in pornographic theaters in America. I AM CURIOUS-YELLOW is a good film for anyone wanting to study the meat and potatoes (no pun intended) of Swedish cinema. But really, this film doesn\\'t have much of a plot.', 'label': 0}\n"
          ]
        }
      ]
    },
    {
      "cell_type": "markdown",
      "source": [
        "We want to narrow down our dataset to just one topic. We decided for this project to make that topic Star Wars. There are in total 9 movies: 3 classic movies, 3 movies from the early 2000s and 3 recent movies."
      ],
      "metadata": {
        "id": "EK4_jtJoE_qq"
      }
    },
    {
      "cell_type": "code",
      "source": [
        "import re\n",
        "\n",
        "# Define the movie you want to filter by\n",
        "specific_movie = \"Star Wars\"\n",
        "\n",
        "# Define a function to filter texts containing the specific word or phrase\n",
        "def filter_texts(example):\n",
        "    return bool(re.search(rf'\\b{specific_movie}\\b', example['text'], re.IGNORECASE))\n",
        "\n",
        "# Apply the filter to the combined dataset\n",
        "filtered_dataset = combined_dataset.filter(filter_texts)\n",
        "\n",
        "# Verify the filtered dataset\n",
        "print(filtered_dataset)\n",
        "\n",
        "print(filtered_dataset[0])"
      ],
      "metadata": {
        "colab": {
          "base_uri": "https://localhost:8080/"
        },
        "id": "CQGiZzURKtnh",
        "outputId": "9d6dac56-7d9c-498b-c501-b28dd01503d0"
      },
      "execution_count": 138,
      "outputs": [
        {
          "output_type": "stream",
          "name": "stdout",
          "text": [
            "Dataset({\n",
            "    features: ['text', 'label'],\n",
            "    num_rows: 618\n",
            "})\n",
            "{'text': 'As a kid I did think the weapon the murderer wielded was cool, however I was a kid and so I was a bit dumb. Even as a dumb kid though the movies plot was stupid and a bit boring when the killer was not using his light knife to kill people. What amazes me is that the movie has a really solid cast in it. What script did they read when agreeing to be in this movie as it is most assuredly boring and only a means to show off a light saber on a very small scale. The plot at times is incomprehensible and the end is totally chaotic. The whole film seems to rotate around aliens and the one weapon. The plot has two kids and some dude having an alien encounter, flash years later and there seems to be a return as it were in the mix. Dead animals and such to be explored and for some reason the one dude gets the weapon of the aliens and proceeds to use it to go on a very light killing spree. Seriously, you just have to wonder why this movie was made, if you are going to have a killer have some good death scenes, if you are going to have alien encounters show more than a weird light vortex thing, and if you are going to have light sabers then call yourself star wars.', 'label': 0}\n"
          ]
        }
      ]
    },
    {
      "cell_type": "code",
      "source": [
        "from langchain.text_splitter import RecursiveCharacterTextSplitter\n",
        "\n",
        "text_splitter = RecursiveCharacterTextSplitter(\n",
        "    chunk_size = 1000,\n",
        "    chunk_overlap  = 100,\n",
        "    length_function = len,\n",
        "    is_separator_regex=False,\n",
        "    # separators=[\n",
        "    #     \"\\n\\n\",\n",
        "    #     \".\",\n",
        "    #     \"\\n\",\n",
        "    #     \" \",\n",
        "    #     \"\",\n",
        "    # ]\n",
        ")\n",
        "\n",
        "# Extract texts from the dataset\n",
        "text = filtered_dataset[\"text\"]\n",
        "\n",
        "# Concatenate all texts into a single string\n",
        "concatenated_text = \" \".join(text)\n",
        "\n",
        "texts = text_splitter.create_documents([concatenated_text])\n",
        "\n",
        "print(texts[:2])"
      ],
      "metadata": {
        "id": "5kz-subSLVqN",
        "colab": {
          "base_uri": "https://localhost:8080/"
        },
        "outputId": "9d6b136a-9c98-4946-dd07-56af32bdf6d9"
      },
      "execution_count": 139,
      "outputs": [
        {
          "output_type": "stream",
          "name": "stdout",
          "text": [
            "[Document(page_content='As a kid I did think the weapon the murderer wielded was cool, however I was a kid and so I was a bit dumb. Even as a dumb kid though the movies plot was stupid and a bit boring when the killer was not using his light knife to kill people. What amazes me is that the movie has a really solid cast in it. What script did they read when agreeing to be in this movie as it is most assuredly boring and only a means to show off a light saber on a very small scale. The plot at times is incomprehensible and the end is totally chaotic. The whole film seems to rotate around aliens and the one weapon. The plot has two kids and some dude having an alien encounter, flash years later and there seems to be a return as it were in the mix. Dead animals and such to be explored and for some reason the one dude gets the weapon of the aliens and proceeds to use it to go on a very light killing spree. Seriously, you just have to wonder why this movie was made, if you are going to have a killer have some good'), Document(page_content='you just have to wonder why this movie was made, if you are going to have a killer have some good death scenes, if you are going to have alien encounters show more than a weird light vortex thing, and if you are going to have light sabers then call yourself star wars. I have just lost three hours of my life to this travesty, and I can honestly say I feel violated. I had read the reviews and heard the warnings, and I thought I was prepared for anything - at best I thought, a faithful (if misguided) attempt at an original adaptation; at worst, a so-good-it\\'s-bad \"Plan 9\" for the new millennium. So when I managed to pick up a copy in Walmart while in Florida and brought it back to the UK, I joked to my friends \"Prepare for the worst movie ever made!\" Oh, cruel Karma. There is absolutely NOTHING to recommend this film. The \"special\" effects look like the work of a first year design student using a Spectrum ZX81. The acting is terrible, the accents are WORSE than terrible (one artillery')]\n"
          ]
        }
      ]
    },
    {
      "cell_type": "markdown",
      "source": [
        "Here we create the embeddings for the text dataset."
      ],
      "metadata": {
        "id": "Zmuxqq0mFVkU"
      }
    },
    {
      "cell_type": "code",
      "source": [
        "from langchain.embeddings import CacheBackedEmbeddings, HuggingFaceEmbeddings\n",
        "from langchain.vectorstores import FAISS\n",
        "from langchain.storage import LocalFileStore\n",
        "\n",
        "store = LocalFileStore(\"./cache/\")\n",
        "\n",
        "embed_model_id = 'sentence-transformers/all-MiniLM-L6-v2'\n",
        "\n",
        "core_embeddings_model = HuggingFaceEmbeddings(\n",
        "    model_name=embed_model_id\n",
        ")\n",
        "\n",
        "embedder = CacheBackedEmbeddings.from_bytes_store(\n",
        "    core_embeddings_model, store, namespace=embed_model_id\n",
        ")\n",
        "\n",
        "vector_store = FAISS.from_documents(texts, embedder)"
      ],
      "metadata": {
        "colab": {
          "base_uri": "https://localhost:8080/"
        },
        "id": "hdIQeuwdhCEN",
        "outputId": "0b843f55-37c2-4d10-aef7-287d0cd97aa8"
      },
      "execution_count": 140,
      "outputs": [
        {
          "output_type": "stream",
          "name": "stderr",
          "text": [
            "/usr/local/lib/python3.10/dist-packages/huggingface_hub/file_download.py:1132: FutureWarning: `resume_download` is deprecated and will be removed in version 1.0.0. Downloads always resume when possible. If you want to force a new download, use `force_download=True`.\n",
            "  warnings.warn(\n"
          ]
        }
      ]
    },
    {
      "cell_type": "markdown",
      "source": [
        "We want to test to see if our embeddings worked and if there will be content returned to us based on various queries. We will use these queries later to give to the final LLM and generate new text."
      ],
      "metadata": {
        "id": "f42H3G9tFZ-i"
      }
    },
    {
      "cell_type": "code",
      "source": [
        "query = \"What is Star Wars?\"\n",
        "embedding_vector = core_embeddings_model.embed_query(query)\n",
        "docs = vector_store.similarity_search_by_vector(embedding_vector, k = 4)\n",
        "\n",
        "for page in docs:\n",
        "  print(page.page_content)"
      ],
      "metadata": {
        "colab": {
          "base_uri": "https://localhost:8080/"
        },
        "id": "P9_SSCqphqL-",
        "outputId": "68f81677-33ec-458b-c060-a3284e9023de"
      },
      "execution_count": 141,
      "outputs": [
        {
          "output_type": "stream",
          "name": "stdout",
          "text": [
            "be any actual emphasis on plot, it just being an excuse to glue one over-long action set piece to another, so the intrigue disappears fast and the themes and contexts are given a back seat to (admittedly impressive) CGI. It seems that George Lucas thought that what made a good film was as much soulless eye candy as possible.<br /><br />Star wars was once a trailblazer in Science fiction and its originality gave most of the future Blockbusters the templates for their scenes, and what was originally Star Wars innovation became cliché at the hands of other films. Now it is Star Wars using the same plot lines we have seen over and over again, copying others and Episodes 1, 2 and 3 in a lazy attempt to seem interesting.<br /><br />You do not need spectacle to create a good film you need drama and humanity both of which this film sorely lacks. In my opinion the best Light Sabre Fight of the series was the Showdown between Darth Vader and Obi-Wan Kenobi. The fight didn't have any flipping or\n",
            "originality. Where \"Star Wars\" created a whole new experience in cinema and \"Empire\" brought us to alien worlds of swamps, ice, and clouds, \"Jedi\" lamely re-cycled the locations of the first film. First we are back on the desert planet Tatooine, and then we are watching them face ANOTHER death star (maybe the emperor couldn't think of anything new... but you'd think Lucas or Kasdan could). Also we have these ewoks, who really are just detestable made-for-mattel teddy bears, in a recycled version of what was supposed to be the big wookie-fight at the end of \"Star Wars\" if they hadn't run out of cash. It just feels like lazy construction.<br /><br />The most unfortunate aspect of \"Jedi\" for me is the weak handling of the Han Solo character. Whereas he is central to the plot of the first 2 films here he is struggling for screen time, trading one liners with the droids. Instead of a real drama we're stuck with the lame pretense that Han is still convinced Leia loves Luke -- as if the\n",
            "of being associated with the Star Wars saga. As with the Jar-Jar character, this seems targeted at children (and the toy market). The battle scenes are particularly bad. It was depressing to see Sian Phillips' incredible talent go to such a waste, after her classic performance in I, Claudius. What the hell is this!? That was my first reaction to this film (actually, my first reaction contained more swearing). This isn't Star Wars! Star Wars is space battles, this movie has none. Star Wars is the Force, this movie only has a retarded witch with a magic ring. Star Wars is lightsaber battles, this movie hasn't got any battle worth mentioning. Star Wars is humor, this movie isn't. Star Wars is a galaxy far, far away, this movie has HORSES in it!!! Besides all of this, how did Lucas get the insane idea to let a five year old baby do the leading role !? Big, big disappointment. Do you like Star Wars? Don't watch this! 1 out of 10 Looking for a movie for your Turkey Film Festival? THE ROLLER\n",
            "really a big fan of SW's Expanded Universe since its purpose is to explore the possibilities beyond the movies (which in turn ruins the rhythm of the saga's overall presentation). Clone Wars, also labeled as an Expanded Universe, otherwise proves the other way round. Due to the fact that this so-called Microseries sticks closer to the next two movies (Episodes II and III) than anything else, fans of the movies will be delighted to know that it remains true to the spirit of the Star Wars mythology despite additional sub-plots and newer characters.<br /><br />Star Wars: Clone Wars chronicles the adventures of Anakin Skywalker, his mentor Obi-Wan Kenobi, the beloved droids Threepio and Artoo and the rest of the characters from the first two films (fortunately for Jar Jar Binks-haters, he is nowhere to be seen) during the events of the Clone Wars: full-scale battles between the mechanical Separatist and the Army of the Republic (clone troopers). In addition to its role as a bridge between\n"
          ]
        }
      ]
    },
    {
      "cell_type": "markdown",
      "source": [
        "The queries become progressivly more difficult."
      ],
      "metadata": {
        "id": "lj-omyt0H3P3"
      }
    },
    {
      "cell_type": "code",
      "source": [
        "query = \"Who is darth vader?\"\n",
        "embedding_vector = core_embeddings_model.embed_query(query)\n",
        "docs = vector_store.similarity_search_by_vector(embedding_vector, k = 4)\n",
        "\n",
        "for page in docs:\n",
        "  print(page.page_content)"
      ],
      "metadata": {
        "colab": {
          "base_uri": "https://localhost:8080/"
        },
        "id": "zNLl3MD0cBUN",
        "outputId": "f1a5b4eb-0e4a-4248-897f-6b8b57187261"
      },
      "execution_count": 142,
      "outputs": [
        {
          "output_type": "stream",
          "name": "stdout",
          "text": [
            "to working alongside the Rebels to destroy an all new Death Star that nears completion. This time the Emperor himself is overseeing the final stages of construction. The Empire intends to crush the Rebellion once and for all, while the Emperor himself schemes to bring the now powerful Skywalker to his side to work alongside (or is that replace?) Darth Vader. The Emperor is a different kind of evil for this film, less cunning than Governor Tarkin (Peter Cushing) from \"Star Wars\", more deeply psychologically dark than anything else. Played brilliantly by Ian McDiarmid, the Emperor is just one of those characters you love to hate.<br /><br />All the other actors are well entrenched in their roles. Hamill surprises as the more wisened Luke, making his character's progression from whiny teenager, impatient student to enlightened warrior one of the few real character developments of the series. Ford's role is waring thin, as all his charm and charisma was spent in the first two films -- he\n",
            "as Luke Skywalker in these scenes, and watching him as a fully matured Jedi Knight makes for an unforgettable performance. Also, as iconic as James Earl Jones' voice as Darth Vader is, he is rivaled only by the shriveled, crone-like Emperor, played with deliciously raspy, frightening evil by Ian McDiarmid. The tension between this trio heightens the excitement of this climactic moment, which is appropriately darkly lit and menacingly underscored.<br /><br />The STAR WARS movies have always set standards for special effects, and the technical work in RETURN OF THE JEDI can easily hold a candle to its predecessors. The space battle fights are as exhilarating as always, and the speeder bike chase through the forest is a knockout. Of course, given that this movie was made after A NEW HOPE and THE EMPIRE STRIKES BACK, it probably shouldn't be so surprising that the special effects have reached an even greater level of excellence. The acting is classic STAR WARS fare; Hamill, Harrison Ford\n",
            "his apprentice Darth Vadar.All in black with his red eyes,ghostly white disfigured face and sinister laugh he truly is a terrifying addition to the story and is the undisputed Master of the events that unfold. His new and improved Death Star spells disaster for the rebels but the brave group launch one last desperate attack to end the Empire's reign for good. <br /><br />Lucas managed to incorporate three different stories at once and keep the action going so that the audience is riveted. We watch in excitement as Han and Leia attempt to bring down the shield around the Death Star from the forest Moon of Endor with the help of some adorable Ewoks ( who I really do not believe take from the movie at all. In fact I feel they provide a sort reprieve from the tension of the battles at and in the Death Star) and hindered by legions of Stormtroopers and Imperial Officers. We cheer on Lando and the other pilots as they take on the mighty Imperial Fleet and risk life and limb to fly into the\n",
            "this side of Ming the Merciless. Add to that a completely dreadful script, way too many effects, no discernable plot line, and dreary \"action\" sequences, and you have yourself a real stinker. And I won't waste any space talking about the apocalyptic disaster that is Jar Jar Binks.<br /><br />Poor Ewan McGregor, Liam Neeson, and Natalie Portman!! Three of the finest actors to grace the screen today, and they have nothing at all to work with. Meanwhile all the dialogue goes to Jar Jar and Anakin, played awfully by Jake Lloyd. Sidenote: Am I the only one concerned with the fact that through the whole movie everyone calls the future Darth Vader \"Annie\"???<br /><br />Darth Maul would be a formidable villain, assuming, of course, that he had any lines, which he doesn't. He is silent during his entire lightsaber duel with Neeson and McGregor, eliminating the verbal duel that was at the heart of Vader's fights with Luke in the original series. His role seems detached and his presence does not\n"
          ]
        }
      ]
    },
    {
      "cell_type": "markdown",
      "source": [
        "More difficult..."
      ],
      "metadata": {
        "id": "y6uBi92rH7RU"
      }
    },
    {
      "cell_type": "code",
      "source": [
        "query = \"Who is luke skywalker's father?\"\n",
        "embedding_vector = core_embeddings_model.embed_query(query)\n",
        "docs = vector_store.similarity_search_by_vector(embedding_vector, k = 4)\n",
        "\n",
        "for page in docs:\n",
        "  print(page.page_content)"
      ],
      "metadata": {
        "id": "x1dsey-bh3wv",
        "colab": {
          "base_uri": "https://localhost:8080/"
        },
        "outputId": "8234bdda-c31f-4f5b-dcf5-2dc5ba015c30"
      },
      "execution_count": 143,
      "outputs": [
        {
          "output_type": "stream",
          "name": "stdout",
          "text": [
            "is that Yoda is too old and sick, since he already has 900 years old, and before he dies, Yoda says to Luke that he does not need more training,but to really be a Jedi, he must fight with Vader again. He confirms to Luke that Vader is Luke's dad, and that there is another Skywalker besides Luke. In his last moments, Yoda asks to Luke to remember his advices about the temptation of the dark side, and to Luke transmit his Jedi knowledge to other people. When Yoda dies,Obi wan's spirit shows up to Luke and tells him that Luke's father killed his good side Anakin to become Darth Vader, and also that he is more machine than a man since he became a sith. Luke stays worried about killing his own dad, and says that he feels that his father still has kindness. Obi Wan tells Luke that his twin sister is Leia, and says the reasons why Luke and Leia were separated since babies. He gives his last advice to Luke saying that if he refuses to kill Vader, the emperor will win the war.<br /><br />At\n",
            "Father we were left with the feeling that things were going from bad to worse. Vadar it seemed had won the day. How we asked could the rebels ever recover from this blow? In Lucas stunning and captivating final chapter we are kept on the edges of our seats from Han's daring rescue from Jabba's palace to the the final climactic battle on the Death Star between Luke and Vadar as Luke struggles between fulfilling his duties as a Jedi and rebel fighter and attempting to reawaken the good he believes is still in his Father's soul.<br /><br />Old friends like the smooth talking Lando Calrissian and the ever lovable Chewbacca reunite for one final battle to end all battles as a new darker more dangerous enemy emerges in the form of the Emperor himself ( played by the brilliant Ian McDiarmiud.How he missed out on an Oscar is a mystery.) desperate to turn Luke to the Dark Side even if it means betraying his apprentice Darth Vadar.All in black with his red eyes,ghostly white disfigured face and\n",
            "Luke returns to Dagobah to find a dying Yoda where he learns the awful truth; Darth Vader is in fact his father. The rebel heroes regroup with the Rebel Fleet. Now joined by other species and races including the Mon Calamari the Rebels must make a all-or-nothing plan of attack to destroy the Death Star before it is completed. While Lando heads the space attack in the Millennium Falcon, the Rebel heroes must disable the Death Star's shield generator on the Forest Moon Of Endor. It is here that the Rebels happen upon the furry, but mighty Ewoks. During the the two part intense battle, a third battle must take place as Luke willingly delivers himself to Vader in an attempt to convince him to leave the Dark Side. In emotionally charged sequences Luke must face his father as the Emperor lures out his dark emotions. As young Skywalker is about to face his death at the hands of Palpatine, Vader turns on his wicked master to save his son's life. <br /><br />Filled with a deep timeless story\n",
            "\"Return of the Jedi\". Often derided for its overly 'cute' factor, ROTJ is in a sense as strong as the original and only slightly less impressive than the nearly perfect \"The Empire Strikes Back\". Indeed the 'cute' element of ROTJ, namely the Ewoks, remains a weak link in the entire series. Did George Lucas place the furry midgets in the film purely for the merchandising possibilities? Only he can answer that question.<br /><br />This cute factor aside, the film is a brilliant full circle AND evolution of the saga. Following on from the conclusion of \"The Empire Strikes Back\", Luke Skywalker (Mark Hamill) follows his Rebel Alliance friends to Tatooine, his home planet, to rescue Han Solo (Harrison Ford), the space pirate turned Rebel hero who was captured by Jabba the Hutt for overdue debts.<br /><br />Skywalker is a changed man since leaving Tatooine with Ben 'Obi Wan' Kenobi (Alec Guiness) to fight the evil Empire. Now swathed all in black, Luke's discovery of his origins have left\n"
          ]
        }
      ]
    },
    {
      "cell_type": "code",
      "source": [
        "query = \"Why were the sequals worse than the originals or the prequals?\"\n",
        "embedding_vector = core_embeddings_model.embed_query(query)\n",
        "docs = vector_store.similarity_search_by_vector(embedding_vector, k = 4)\n",
        "\n",
        "for page in docs:\n",
        "  print(page.page_content)"
      ],
      "metadata": {
        "colab": {
          "base_uri": "https://localhost:8080/"
        },
        "id": "noHkAgWQcJm7",
        "outputId": "de6a615e-b8e5-49e3-cde7-2d1c09768acb"
      },
      "execution_count": 144,
      "outputs": [
        {
          "output_type": "stream",
          "name": "stdout",
          "text": [
            "innovative for it's time, and that it has been copied very often, but maybe that's exactly why the whole thing sometimes seems a little below it's reputation. There are tough, rebellious youths and pink-haired squeaky cute computer geniuses all over the place on the anime market. The fact that they're all female is hardly a novelty anymore either.<br /><br />That might be the main problem here; time hasn't been too kind to Bubblegum Crisis. Those who first saw the series and became loyal followers in the 80's had every reason to be impressed back then. Alas, by now, the same formula has appeared so often, be it under different guises, that there's little left to be amazed about for one watching this series for the first time now. Somehow BGC doesn't really manage to hold up a feeling that it's the founding father of a whole generation of anime series.<br /><br />Animation quality has aged a bit better though, with only the first episode looking genuinely old hat by now. Episodes seven\n",
            "to have some feel of that this is real. I just cant believe in something as silly as the Andromeda future.<br /><br />I just cant understand how anyone under ten could like this crap. I hate sequels, but I still watch them in hopes that there will be one that actually is as good or better than the original.<br /><br />Some are (\"Star Wars\" sequels, James Bond films, \"Godfather\" films\") but ones like \"Sister Act II\" are not. It's bad all right, but not in any normal sense. This is bad in its own unique way.<br /><br />Whereas the original had a sense, style, clarity and humorous thrust all its own, \"Sister Act II\" goes on a completely different tangent than the original. It abandons the old neighborhood from the first movie, adds a bunch of characters that are introduced then forgotten, there are no references to the cop (Nunn) that helped out Whoopi in the original and aside from Sister Mary Patrick (Najimy, always good for a laugh), everyone looks bored beyond belief.<br /><br />The\n",
            "and traction devices at the sides. I'm surprised Jerry Anderson didn't sue for plagiarism. Maybe he was bought-off. Yet if the movie is any guide, they can't have paid him much.<br /><br />It's 1976 and we're still playing about in latex romper-suits. <br /><br />That's about it really. Some movies have an entertainment value in the 'so bad it's good' category. This one doesn't even manage that. It wouldn't even entertain kids. 'Crash Corrigan's' stuff from the 1930's has got more going for it. This is just about one of the dumbest things I've ever seen. Maybe not a worst movie ever contender, but if you haven't seen that many bad ones, this could easily make your Top Ten Worst List. When you consider what was achieved in 1933 with the original \"King Kong\", you've got to ask yourself why anyone would stoop so low as to produce this debacle. Then, taking it one step further and realizing that the quantum leap to \"Star Wars\" the following year achieved a new level in sci-fi\n",
            "fact the prequels were inferior in every way to the originals... Lucas's dialogue is wretched, his pacing is totally off, and he seems to be killing time here. There's no real enthusiasm here, in front of the camera or in back of it. Perhaps the actors picked up on the fact that Lucas didn't give a damn about his own film, so why should they? I sometimes think Lucas purposely made bad prequels so he wouldn't have to film the final 3 chapters. And why did he decide to make the prequels? If he made the 3 films that were supposed to take place after Return of the Jedi, he would have had no real creative restraints. Who knows why George Lucas does what he does? I haven't a clue, other than I really disliked this film. Well, everyone expected a great film, with a killer story, amazing special effects, and great performances. What we got was drivel.<br /><br />Yes, I saw and enjoyed the original \"Star Wars\" films, but did not see the need to buy sheets or toys or models or otherwise alter\n"
          ]
        }
      ]
    },
    {
      "cell_type": "code",
      "source": [
        "query = \"Were the prequals worse than the orginals?\"\n",
        "embedding_vector = core_embeddings_model.embed_query(query)\n",
        "docs = vector_store.similarity_search_by_vector(embedding_vector, k = 4)\n",
        "\n",
        "for page in docs:\n",
        "  print(page.page_content)"
      ],
      "metadata": {
        "colab": {
          "base_uri": "https://localhost:8080/"
        },
        "id": "LED0H-U3cP2-",
        "outputId": "b989f1c8-3016-47f8-9d06-732ebabaf6bb"
      },
      "execution_count": 145,
      "outputs": [
        {
          "output_type": "stream",
          "name": "stdout",
          "text": [
            "calculator once. I'm never quite sure whether the Cylons had an organic counterpart who created them, but it doesn't really matter.<br /><br />In many ways this show is a shallow imitation of \"Star Wars,\" and this can be seen in the cast of characters. Particularly Starbuck (Dirk Benedict), who tries so hard to be Han Solo, but only comes off as petulant, sexist, and rather pathetic. Apollo is the noble, Luke Skywalker hero type, and as such doesn't have a personality. Starbuck has a faithful black sidekick, Boomer, who seems to be much more competent than Starbuck. Adama also has a faithful black sidekick, called Colonel Tigh, who at one point is reduced to picking up everyone's laundry. Take that, Civil Rights Movement!<br /><br />The destruction of the human colonies is a brief, and amazingly painless affair. A park is strafed by Cylon ships, and a small dog is killed (though the actual death is not shown, so we are left with some hope). Soon enough, our heroes have forgotten all\n",
            "US Armed Forces ever did. Fact: the soldiers in World War II treated the enemy far worse in general than the soldiers in Vietnam did, and they were WELCOMED when they came home. The fine Americans who served this country in Vietnam deserve our respect; though the war was badly fought from a political standpoint, no one could have asked for more from our soldiers, and it is a great disservice to assert that this kind of \"mostly true\" fiction is the way things really were there. Ooof! This one was a stinker. It does not fall 'somewhere in between Star Wars and Thriller', thats for sure. In all actuality, it falls somewhere between the cracks of a Wham! video and Captain EO, only with not as big of a budget, and a lot more close ups of ugly teenagers crying. Simon Le Bon preens front and center, while the rest of the band gamely tries to hide the fact that they stole their whole career from Roxy Music's last 3 albums. Brief clips from Barbarella add nothing. Avoid at all costs. (However,\n",
            "more lethal than a hand blaster, when it comes to weapons. On their mission, they encounter a perfectly preserved space relic from an Earth expedition of the 20th century. Let's just say our predecessors had very little nice things to say about us. Let's not forget that the 20th century contained two world wars, numerous genocides, the birth and use of the the atomic bomb. <br /><br />One would also assume that a movie made in a Soviet influenced country would contain a certain amount of Communist and Pro-Soviet propaganda (for example, Planeta Bura). Thankfully this is all missing. About the biggest commentary comes from the critique of our 20th century counterparts. I found the only anti-capitalist message in the writing on the Earth relic. Everything inside is written in English, the ship was fully loaded with nuclear warheads and the the crew turned on each other. And even this critique is more of a jab at our collective selves then at full fledged opposition to capitalism. <br\n",
            "who is a bad cop. So she cuddles up to and makes out with the guy who she first thought killed her brother, but who turns out to be a good guy and they live happily ever after on the $3 mil in real and counterfit money that every body was after in the beginning. If any of this makes sense, you are obviously retarded. Be glad you missed it. This little black and white gem features Alec Guinness(\"Lawrence of Arabia\" \"Star Wars-A New Hope\") and Jack Hawkins(\"Ben Hur\") as the opposing sides in a subtle film of brainwashing and psychological torture. Guinness is the Cardinal, a cold, authoritarian leader of the church against the state. Hawkins is the specialist who must break him in a very short period of time to embarrass the church and remove it's power with the people. Both men are destined to come out of the experience changed forever. <br /><br />With a fine supporting cast, the film is centered on these two very strong performances which give the cold war a brand new meaning. If\n"
          ]
        }
      ]
    },
    {
      "cell_type": "markdown",
      "source": [
        "We choose to use gpt2 from OpenAI as our pre-trained model. There are several to choose from but gpt2 is free to use with HuggingFace and it preformes well compared to the other free LLMs."
      ],
      "metadata": {
        "id": "_EalHIptH_QL"
      }
    },
    {
      "cell_type": "code",
      "source": [
        "from transformers import GPT2Tokenizer, GPT2LMHeadModel\n",
        "\n",
        "# Load pre-trained model and tokenizer\n",
        "model_name = \"gpt2\"\n",
        "tokenizer = GPT2Tokenizer.from_pretrained(model_name, padding=True, truncation=True, max_length=100)\n",
        "model = GPT2LMHeadModel.from_pretrained(model_name)\n",
        "\n",
        "model.eval()"
      ],
      "metadata": {
        "colab": {
          "base_uri": "https://localhost:8080/"
        },
        "id": "ww6jHQT_eLCG",
        "outputId": "b69ea44d-a81c-4a95-c244-94dff0e06bf8"
      },
      "execution_count": 146,
      "outputs": [
        {
          "output_type": "execute_result",
          "data": {
            "text/plain": [
              "GPT2LMHeadModel(\n",
              "  (transformer): GPT2Model(\n",
              "    (wte): Embedding(50257, 768)\n",
              "    (wpe): Embedding(1024, 768)\n",
              "    (drop): Dropout(p=0.1, inplace=False)\n",
              "    (h): ModuleList(\n",
              "      (0-11): 12 x GPT2Block(\n",
              "        (ln_1): LayerNorm((768,), eps=1e-05, elementwise_affine=True)\n",
              "        (attn): GPT2Attention(\n",
              "          (c_attn): Conv1D()\n",
              "          (c_proj): Conv1D()\n",
              "          (attn_dropout): Dropout(p=0.1, inplace=False)\n",
              "          (resid_dropout): Dropout(p=0.1, inplace=False)\n",
              "        )\n",
              "        (ln_2): LayerNorm((768,), eps=1e-05, elementwise_affine=True)\n",
              "        (mlp): GPT2MLP(\n",
              "          (c_fc): Conv1D()\n",
              "          (c_proj): Conv1D()\n",
              "          (act): NewGELUActivation()\n",
              "          (dropout): Dropout(p=0.1, inplace=False)\n",
              "        )\n",
              "      )\n",
              "    )\n",
              "    (ln_f): LayerNorm((768,), eps=1e-05, elementwise_affine=True)\n",
              "  )\n",
              "  (lm_head): Linear(in_features=768, out_features=50257, bias=False)\n",
              ")"
            ]
          },
          "metadata": {},
          "execution_count": 146
        }
      ]
    },
    {
      "cell_type": "code",
      "source": [
        "from langchain.llms.huggingface_pipeline import HuggingFacePipeline\n",
        "import torch\n",
        "from transformers import AutoModelForCausalLM, AutoTokenizer, pipeline\n",
        "from transformers import BitsAndBytesConfig\n",
        "\n",
        "# Set the padding token to the EOS token\n",
        "tokenizer.pad_token = tokenizer.eos_token\n",
        "\n",
        "# Creating retriever from the vectorstore with a search configuration where it retrieves up to 4 relevant splits/documents.\n",
        "retriever = vector_store.as_retriever(search_kwargs={\"k\": 4})\n",
        "\n",
        "# Define a question-answering pipeline using the model and tokenizer\n",
        "question_answerer = pipeline(\n",
        "    \"text-generation\",\n",
        "    model=model,\n",
        "    tokenizer=tokenizer,\n",
        "    max_length=1024,\n",
        "    num_beams=2,\n",
        "    num_return_sequences=1,\n",
        "    top_k=50,\n",
        "    top_p=1.0,\n",
        "    do_sample=True\n",
        ")\n",
        "\n",
        "llm = HuggingFacePipeline(\n",
        "    pipeline=question_answerer,\n",
        "    model_kwargs={\"temperature\": 0.7, \"max_length\": 100},\n",
        ")\n",
        "\n",
        "from langchain.chains import RetrievalQA\n",
        "from langchain import hub\n",
        "\n",
        "# Loads the latest version of the RAG prompt\n",
        "prompt = hub.pull(\"rlm/rag-prompt\", api_url=\"https://api.hub.langchain.com\")\n",
        "\n",
        "qa_chain = RetrievalQA.from_chain_type(\n",
        "    llm, retriever=retriever, chain_type_kwargs={\"prompt\": prompt}, chain_type=\"stuff\"\n",
        ")\n"
      ],
      "metadata": {
        "id": "RBzpqWuGdsOM"
      },
      "execution_count": 147,
      "outputs": []
    },
    {
      "cell_type": "markdown",
      "source": [
        "Test our model with a simple query."
      ],
      "metadata": {
        "id": "lmwY-XwfIJ4D"
      }
    },
    {
      "cell_type": "code",
      "source": [
        "question1 = \"What is Star Wars?\"\n",
        "result1 = qa_chain.run({\"query\": question1})\n",
        "print(result1)"
      ],
      "metadata": {
        "colab": {
          "base_uri": "https://localhost:8080/"
        },
        "id": "GQrKh9W7F6ub",
        "outputId": "1789f750-c004-4a5b-fc14-872f34e44a1f"
      },
      "execution_count": 148,
      "outputs": [
        {
          "output_type": "stream",
          "name": "stderr",
          "text": [
            "Truncation was not explicitly activated but `max_length` is provided a specific value, please use `truncation=True` to explicitly truncate examples to max length. Defaulting to 'longest_first' truncation strategy. If you encode pairs of sequences (GLUE-style) with the tokenizer you can select this strategy more precisely by providing a specific strategy to `truncation`.\n"
          ]
        },
        {
          "output_type": "stream",
          "name": "stdout",
          "text": [
            "Human: You are an assistant for question-answering tasks. Use the following pieces of retrieved context to answer the question. If you don't know the answer, just say that you don't know. Use three sentences maximum and keep the answer concise.\n",
            "Question: What is Star Wars? \n",
            "Context: be any actual emphasis on plot, it just being an excuse to glue one over-long action set piece to another, so the intrigue disappears fast and the themes and contexts are given a back seat to (admittedly impressive) CGI. It seems that George Lucas thought that what made a good film was as much soulless eye candy as possible.<br /><br />Star wars was once a trailblazer in Science fiction and its originality gave most of the future Blockbusters the templates for their scenes, and what was originally Star Wars innovation became cliché at the hands of other films. Now it is Star Wars using the same plot lines we have seen over and over again, copying others and Episodes 1, 2 and 3 in a lazy attempt to seem interesting.<br /><br />You do not need spectacle to create a good film you need drama and humanity both of which this film sorely lacks. In my opinion the best Light Sabre Fight of the series was the Showdown between Darth Vader and Obi-Wan Kenobi. The fight didn't have any flipping or\n",
            "\n",
            "originality. Where \"Star Wars\" created a whole new experience in cinema and \"Empire\" brought us to alien worlds of swamps, ice, and clouds, \"Jedi\" lamely re-cycled the locations of the first film. First we are back on the desert planet Tatooine, and then we are watching them face ANOTHER death star (maybe the emperor couldn't think of anything new... but you'd think Lucas or Kasdan could). Also we have these ewoks, who really are just detestable made-for-mattel teddy bears, in a recycled version of what was supposed to be the big wookie-fight at the end of \"Star Wars\" if they hadn't run out of cash. It just feels like lazy construction.<br /><br />The most unfortunate aspect of \"Jedi\" for me is the weak handling of the Han Solo character. Whereas he is central to the plot of the first 2 films here he is struggling for screen time, trading one liners with the droids. Instead of a real drama we're stuck with the lame pretense that Han is still convinced Leia loves Luke -- as if the\n",
            "\n",
            "of being associated with the Star Wars saga. As with the Jar-Jar character, this seems targeted at children (and the toy market). The battle scenes are particularly bad. It was depressing to see Sian Phillips' incredible talent go to such a waste, after her classic performance in I, Claudius. What the hell is this!? That was my first reaction to this film (actually, my first reaction contained more swearing). This isn't Star Wars! Star Wars is space battles, this movie has none. Star Wars is the Force, this movie only has a retarded witch with a magic ring. Star Wars is lightsaber battles, this movie hasn't got any battle worth mentioning. Star Wars is humor, this movie isn't. Star Wars is a galaxy far, far away, this movie has HORSES in it!!! Besides all of this, how did Lucas get the insane idea to let a five year old baby do the leading role !? Big, big disappointment. Do you like Star Wars? Don't watch this! 1 out of 10 Looking for a movie for your Turkey Film Festival? THE ROLLER\n",
            "\n",
            "really a big fan of SW's Expanded Universe since its purpose is to explore the possibilities beyond the movies (which in turn ruins the rhythm of the saga's overall presentation). Clone Wars, also labeled as an Expanded Universe, otherwise proves the other way round. Due to the fact that this so-called Microseries sticks closer to the next two movies (Episodes II and III) than anything else, fans of the movies will be delighted to know that it remains true to the spirit of the Star Wars mythology despite additional sub-plots and newer characters.<br /><br />Star Wars: Clone Wars chronicles the adventures of Anakin Skywalker, his mentor Obi-Wan Kenobi, the beloved droids Threepio and Artoo and the rest of the characters from the first two films (fortunately for Jar Jar Binks-haters, he is nowhere to be seen) during the events of the Clone Wars: full-scale battles between the mechanical Separatist and the Army of the Republic (clone troopers). In addition to its role as a bridge between \n",
            "Answer: Yes, the original Star Wars movie was based on the original Star Wars. However, the original Star Wars film was based on the Expanded Universe, so the movie is not based on the Expanded Universe. The original Star Wars movie was based on Star Wars.\n"
          ]
        }
      ]
    },
    {
      "cell_type": "code",
      "source": [
        "from langchain.chains import ConversationalRetrievalChain\n",
        "from langchain.memory import ConversationBufferMemory\n",
        "\n",
        "memory = ConversationBufferMemory(\n",
        "    memory_key=\"chat_history\",\n",
        "    return_messages=True\n",
        ")\n",
        "\n",
        "chat_qa = ConversationalRetrievalChain.from_llm(\n",
        "    llm,\n",
        "    retriever=retriever,\n",
        "    memory=memory\n",
        ")"
      ],
      "metadata": {
        "id": "z6BtPOKBebYI"
      },
      "execution_count": 149,
      "outputs": []
    },
    {
      "cell_type": "code",
      "source": [
        "question3 = \"Who is Darth Vader?\"\n",
        "result3 = qa_chain.run({\"query\": question3})\n",
        "print(result3)"
      ],
      "metadata": {
        "colab": {
          "base_uri": "https://localhost:8080/"
        },
        "id": "HFAdhvWNFopa",
        "outputId": "408002b6-a0fe-4df2-d4f2-f98b67dc0e88"
      },
      "execution_count": 152,
      "outputs": [
        {
          "output_type": "stream",
          "name": "stdout",
          "text": [
            "Human: You are an assistant for question-answering tasks. Use the following pieces of retrieved context to answer the question. If you don't know the answer, just say that you don't know. Use three sentences maximum and keep the answer concise.\n",
            "Question: Who is Darth Vader? \n",
            "Context: to working alongside the Rebels to destroy an all new Death Star that nears completion. This time the Emperor himself is overseeing the final stages of construction. The Empire intends to crush the Rebellion once and for all, while the Emperor himself schemes to bring the now powerful Skywalker to his side to work alongside (or is that replace?) Darth Vader. The Emperor is a different kind of evil for this film, less cunning than Governor Tarkin (Peter Cushing) from \"Star Wars\", more deeply psychologically dark than anything else. Played brilliantly by Ian McDiarmid, the Emperor is just one of those characters you love to hate.<br /><br />All the other actors are well entrenched in their roles. Hamill surprises as the more wisened Luke, making his character's progression from whiny teenager, impatient student to enlightened warrior one of the few real character developments of the series. Ford's role is waring thin, as all his charm and charisma was spent in the first two films -- he\n",
            "\n",
            "as Luke Skywalker in these scenes, and watching him as a fully matured Jedi Knight makes for an unforgettable performance. Also, as iconic as James Earl Jones' voice as Darth Vader is, he is rivaled only by the shriveled, crone-like Emperor, played with deliciously raspy, frightening evil by Ian McDiarmid. The tension between this trio heightens the excitement of this climactic moment, which is appropriately darkly lit and menacingly underscored.<br /><br />The STAR WARS movies have always set standards for special effects, and the technical work in RETURN OF THE JEDI can easily hold a candle to its predecessors. The space battle fights are as exhilarating as always, and the speeder bike chase through the forest is a knockout. Of course, given that this movie was made after A NEW HOPE and THE EMPIRE STRIKES BACK, it probably shouldn't be so surprising that the special effects have reached an even greater level of excellence. The acting is classic STAR WARS fare; Hamill, Harrison Ford\n",
            "\n",
            "his apprentice Darth Vadar.All in black with his red eyes,ghostly white disfigured face and sinister laugh he truly is a terrifying addition to the story and is the undisputed Master of the events that unfold. His new and improved Death Star spells disaster for the rebels but the brave group launch one last desperate attack to end the Empire's reign for good. <br /><br />Lucas managed to incorporate three different stories at once and keep the action going so that the audience is riveted. We watch in excitement as Han and Leia attempt to bring down the shield around the Death Star from the forest Moon of Endor with the help of some adorable Ewoks ( who I really do not believe take from the movie at all. In fact I feel they provide a sort reprieve from the tension of the battles at and in the Death Star) and hindered by legions of Stormtroopers and Imperial Officers. We cheer on Lando and the other pilots as they take on the mighty Imperial Fleet and risk life and limb to fly into the\n",
            "\n",
            "this side of Ming the Merciless. Add to that a completely dreadful script, way too many effects, no discernable plot line, and dreary \"action\" sequences, and you have yourself a real stinker. And I won't waste any space talking about the apocalyptic disaster that is Jar Jar Binks.<br /><br />Poor Ewan McGregor, Liam Neeson, and Natalie Portman!! Three of the finest actors to grace the screen today, and they have nothing at all to work with. Meanwhile all the dialogue goes to Jar Jar and Anakin, played awfully by Jake Lloyd. Sidenote: Am I the only one concerned with the fact that through the whole movie everyone calls the future Darth Vader \"Annie\"???<br /><br />Darth Maul would be a formidable villain, assuming, of course, that he had any lines, which he doesn't. He is silent during his entire lightsaber duel with Neeson and McGregor, eliminating the verbal duel that was at the heart of Vader's fights with Luke in the original series. His role seems detached and his presence does not \n",
            "Answer: I have a feeling that you will not be able to tell the future Darth Vader \"Annie\" because of the fact that he has no lines, which he does not. The only way to tell the future Darth Vader \"Annie\" is to talk to him in a way that makes him feel like he is in control of the future Darth Vader. You will be able to tell him that the future Darth Vader \"Annie\" is really Darth\n"
          ]
        }
      ]
    },
    {
      "cell_type": "code",
      "source": [
        "question4 = \"Who is luke skywalker's father?\"\n",
        "result4 = qa_chain.run({\"query\": question4})\n",
        "print(result4)"
      ],
      "metadata": {
        "colab": {
          "base_uri": "https://localhost:8080/"
        },
        "id": "xuy-D2jBKZQu",
        "outputId": "70b2113c-7976-43c2-f5af-fa6e6d346dfb"
      },
      "execution_count": 153,
      "outputs": [
        {
          "output_type": "stream",
          "name": "stdout",
          "text": [
            "Human: You are an assistant for question-answering tasks. Use the following pieces of retrieved context to answer the question. If you don't know the answer, just say that you don't know. Use three sentences maximum and keep the answer concise.\n",
            "Question: Who is luke skywalker's father? \n",
            "Context: is that Yoda is too old and sick, since he already has 900 years old, and before he dies, Yoda says to Luke that he does not need more training,but to really be a Jedi, he must fight with Vader again. He confirms to Luke that Vader is Luke's dad, and that there is another Skywalker besides Luke. In his last moments, Yoda asks to Luke to remember his advices about the temptation of the dark side, and to Luke transmit his Jedi knowledge to other people. When Yoda dies,Obi wan's spirit shows up to Luke and tells him that Luke's father killed his good side Anakin to become Darth Vader, and also that he is more machine than a man since he became a sith. Luke stays worried about killing his own dad, and says that he feels that his father still has kindness. Obi Wan tells Luke that his twin sister is Leia, and says the reasons why Luke and Leia were separated since babies. He gives his last advice to Luke saying that if he refuses to kill Vader, the emperor will win the war.<br /><br />At\n",
            "\n",
            "Father we were left with the feeling that things were going from bad to worse. Vadar it seemed had won the day. How we asked could the rebels ever recover from this blow? In Lucas stunning and captivating final chapter we are kept on the edges of our seats from Han's daring rescue from Jabba's palace to the the final climactic battle on the Death Star between Luke and Vadar as Luke struggles between fulfilling his duties as a Jedi and rebel fighter and attempting to reawaken the good he believes is still in his Father's soul.<br /><br />Old friends like the smooth talking Lando Calrissian and the ever lovable Chewbacca reunite for one final battle to end all battles as a new darker more dangerous enemy emerges in the form of the Emperor himself ( played by the brilliant Ian McDiarmiud.How he missed out on an Oscar is a mystery.) desperate to turn Luke to the Dark Side even if it means betraying his apprentice Darth Vadar.All in black with his red eyes,ghostly white disfigured face and\n",
            "\n",
            "Luke returns to Dagobah to find a dying Yoda where he learns the awful truth; Darth Vader is in fact his father. The rebel heroes regroup with the Rebel Fleet. Now joined by other species and races including the Mon Calamari the Rebels must make a all-or-nothing plan of attack to destroy the Death Star before it is completed. While Lando heads the space attack in the Millennium Falcon, the Rebel heroes must disable the Death Star's shield generator on the Forest Moon Of Endor. It is here that the Rebels happen upon the furry, but mighty Ewoks. During the the two part intense battle, a third battle must take place as Luke willingly delivers himself to Vader in an attempt to convince him to leave the Dark Side. In emotionally charged sequences Luke must face his father as the Emperor lures out his dark emotions. As young Skywalker is about to face his death at the hands of Palpatine, Vader turns on his wicked master to save his son's life. <br /><br />Filled with a deep timeless story\n",
            "\n",
            "\"Return of the Jedi\". Often derided for its overly 'cute' factor, ROTJ is in a sense as strong as the original and only slightly less impressive than the nearly perfect \"The Empire Strikes Back\". Indeed the 'cute' element of ROTJ, namely the Ewoks, remains a weak link in the entire series. Did George Lucas place the furry midgets in the film purely for the merchandising possibilities? Only he can answer that question.<br /><br />This cute factor aside, the film is a brilliant full circle AND evolution of the saga. Following on from the conclusion of \"The Empire Strikes Back\", Luke Skywalker (Mark Hamill) follows his Rebel Alliance friends to Tatooine, his home planet, to rescue Han Solo (Harrison Ford), the space pirate turned Rebel hero who was captured by Jabba the Hutt for overdue debts.<br /><br />Skywalker is a changed man since leaving Tatooine with Ben 'Obi Wan' Kenobi (Alec Guiness) to fight the evil Empire. Now swathed all in black, Luke's discovery of his origins have left \n",
            "Answer:\n",
            "\n",
            "\"Return of the Jedi\" has been a huge hit on the internet and has been described as one of the greatest films ever made. It has been described as one of the best films ever made. It is one of the\n"
          ]
        }
      ]
    },
    {
      "cell_type": "code",
      "source": [
        "question5 = \"Why were the sequals worse than the originals or the prequals?\"\n",
        "result5 = qa_chain.run({\"query\": question5})\n",
        "print(result5)"
      ],
      "metadata": {
        "colab": {
          "base_uri": "https://localhost:8080/"
        },
        "id": "Kutpd_FRbRG3",
        "outputId": "4d87b0f0-cb79-4554-8414-8e056db5af82"
      },
      "execution_count": 154,
      "outputs": [
        {
          "output_type": "stream",
          "name": "stdout",
          "text": [
            "Human: You are an assistant for question-answering tasks. Use the following pieces of retrieved context to answer the question. If you don't know the answer, just say that you don't know. Use three sentences maximum and keep the answer concise.\n",
            "Question: Who is luke skywalker's father? \n",
            "Context: is that Yoda is too old and sick, since he already has 900 years old, and before he dies, Yoda says to Luke that he does not need more training,but to really be a Jedi, he must fight with Vader again. He confirms to Luke that Vader is Luke's dad, and that there is another Skywalker besides Luke. In his last moments, Yoda asks to Luke to remember his advices about the temptation of the dark side, and to Luke transmit his Jedi knowledge to other people. When Yoda dies,Obi wan's spirit shows up to Luke and tells him that Luke's father killed his good side Anakin to become Darth Vader, and also that he is more machine than a man since he became a sith. Luke stays worried about killing his own dad, and says that he feels that his father still has kindness. Obi Wan tells Luke that his twin sister is Leia, and says the reasons why Luke and Leia were separated since babies. He gives his last advice to Luke saying that if he refuses to kill Vader, the emperor will win the war.<br /><br />At\n",
            "\n",
            "Father we were left with the feeling that things were going from bad to worse. Vadar it seemed had won the day. How we asked could the rebels ever recover from this blow? In Lucas stunning and captivating final chapter we are kept on the edges of our seats from Han's daring rescue from Jabba's palace to the the final climactic battle on the Death Star between Luke and Vadar as Luke struggles between fulfilling his duties as a Jedi and rebel fighter and attempting to reawaken the good he believes is still in his Father's soul.<br /><br />Old friends like the smooth talking Lando Calrissian and the ever lovable Chewbacca reunite for one final battle to end all battles as a new darker more dangerous enemy emerges in the form of the Emperor himself ( played by the brilliant Ian McDiarmiud.How he missed out on an Oscar is a mystery.) desperate to turn Luke to the Dark Side even if it means betraying his apprentice Darth Vadar.All in black with his red eyes,ghostly white disfigured face and\n",
            "\n",
            "Luke returns to Dagobah to find a dying Yoda where he learns the awful truth; Darth Vader is in fact his father. The rebel heroes regroup with the Rebel Fleet. Now joined by other species and races including the Mon Calamari the Rebels must make a all-or-nothing plan of attack to destroy the Death Star before it is completed. While Lando heads the space attack in the Millennium Falcon, the Rebel heroes must disable the Death Star's shield generator on the Forest Moon Of Endor. It is here that the Rebels happen upon the furry, but mighty Ewoks. During the the two part intense battle, a third battle must take place as Luke willingly delivers himself to Vader in an attempt to convince him to leave the Dark Side. In emotionally charged sequences Luke must face his father as the Emperor lures out his dark emotions. As young Skywalker is about to face his death at the hands of Palpatine, Vader turns on his wicked master to save his son's life. <br /><br />Filled with a deep timeless story\n",
            "\n",
            "\"Return of the Jedi\". Often derided for its overly 'cute' factor, ROTJ is in a sense as strong as the original and only slightly less impressive than the nearly perfect \"The Empire Strikes Back\". Indeed the 'cute' element of ROTJ, namely the Ewoks, remains a weak link in the entire series. Did George Lucas place the furry midgets in the film purely for the merchandising possibilities? Only he can answer that question.<br /><br />This cute factor aside, the film is a brilliant full circle AND evolution of the saga. Following on from the conclusion of \"The Empire Strikes Back\", Luke Skywalker (Mark Hamill) follows his Rebel Alliance friends to Tatooine, his home planet, to rescue Han Solo (Harrison Ford), the space pirate turned Rebel hero who was captured by Jabba the Hutt for overdue debts.<br /><br />Skywalker is a changed man since leaving Tatooine with Ben 'Obi Wan' Kenobi (Alec Guiness) to fight the evil Empire. Now swathed all in black, Luke's discovery of his origins have left \n",
            "Answer:\n",
            "\n",
            "\"Return of the Jedi\" has been a huge hit on the internet and has been described as one of the greatest films ever made. It has been described as one of the best films ever made. It is one of the\n"
          ]
        }
      ]
    },
    {
      "cell_type": "code",
      "source": [
        "question6 = \"Were the prequals worse than the orginals?\"\n",
        "result6 = qa_chain.run({\"query\": question6})\n",
        "print(result6)"
      ],
      "metadata": {
        "colab": {
          "base_uri": "https://localhost:8080/"
        },
        "id": "yLbHxHorbZQs",
        "outputId": "991d4d58-317e-4425-acfa-9643f289aee8"
      },
      "execution_count": 155,
      "outputs": [
        {
          "output_type": "stream",
          "name": "stdout",
          "text": [
            "Human: You are an assistant for question-answering tasks. Use the following pieces of retrieved context to answer the question. If you don't know the answer, just say that you don't know. Use three sentences maximum and keep the answer concise.\n",
            "Question: Were the prequals worse than the orginals? \n",
            "Context: calculator once. I'm never quite sure whether the Cylons had an organic counterpart who created them, but it doesn't really matter.<br /><br />In many ways this show is a shallow imitation of \"Star Wars,\" and this can be seen in the cast of characters. Particularly Starbuck (Dirk Benedict), who tries so hard to be Han Solo, but only comes off as petulant, sexist, and rather pathetic. Apollo is the noble, Luke Skywalker hero type, and as such doesn't have a personality. Starbuck has a faithful black sidekick, Boomer, who seems to be much more competent than Starbuck. Adama also has a faithful black sidekick, called Colonel Tigh, who at one point is reduced to picking up everyone's laundry. Take that, Civil Rights Movement!<br /><br />The destruction of the human colonies is a brief, and amazingly painless affair. A park is strafed by Cylon ships, and a small dog is killed (though the actual death is not shown, so we are left with some hope). Soon enough, our heroes have forgotten all\n",
            "\n",
            "US Armed Forces ever did. Fact: the soldiers in World War II treated the enemy far worse in general than the soldiers in Vietnam did, and they were WELCOMED when they came home. The fine Americans who served this country in Vietnam deserve our respect; though the war was badly fought from a political standpoint, no one could have asked for more from our soldiers, and it is a great disservice to assert that this kind of \"mostly true\" fiction is the way things really were there. Ooof! This one was a stinker. It does not fall 'somewhere in between Star Wars and Thriller', thats for sure. In all actuality, it falls somewhere between the cracks of a Wham! video and Captain EO, only with not as big of a budget, and a lot more close ups of ugly teenagers crying. Simon Le Bon preens front and center, while the rest of the band gamely tries to hide the fact that they stole their whole career from Roxy Music's last 3 albums. Brief clips from Barbarella add nothing. Avoid at all costs. (However,\n",
            "\n",
            "more lethal than a hand blaster, when it comes to weapons. On their mission, they encounter a perfectly preserved space relic from an Earth expedition of the 20th century. Let's just say our predecessors had very little nice things to say about us. Let's not forget that the 20th century contained two world wars, numerous genocides, the birth and use of the the atomic bomb. <br /><br />One would also assume that a movie made in a Soviet influenced country would contain a certain amount of Communist and Pro-Soviet propaganda (for example, Planeta Bura). Thankfully this is all missing. About the biggest commentary comes from the critique of our 20th century counterparts. I found the only anti-capitalist message in the writing on the Earth relic. Everything inside is written in English, the ship was fully loaded with nuclear warheads and the the crew turned on each other. And even this critique is more of a jab at our collective selves then at full fledged opposition to capitalism. <br\n",
            "\n",
            "who is a bad cop. So she cuddles up to and makes out with the guy who she first thought killed her brother, but who turns out to be a good guy and they live happily ever after on the $3 mil in real and counterfit money that every body was after in the beginning. If any of this makes sense, you are obviously retarded. Be glad you missed it. This little black and white gem features Alec Guinness(\"Lawrence of Arabia\" \"Star Wars-A New Hope\") and Jack Hawkins(\"Ben Hur\") as the opposing sides in a subtle film of brainwashing and psychological torture. Guinness is the Cardinal, a cold, authoritarian leader of the church against the state. Hawkins is the specialist who must break him in a very short period of time to embarrass the church and remove it's power with the people. Both men are destined to come out of the experience changed forever. <br /><br />With a fine supporting cast, the film is centered on these two very strong performances which give the cold war a brand new meaning. If \n",
            "Answer: The movie is about the US Armed Forces, and not about the Civil War. The Civil War is part of the war on terror. The movie is about the war on drugs, and not about the war on drugs. The war on drugs is part of the war on terrorism, and not about the war on terrorism. <br /\n"
          ]
        }
      ]
    }
  ]
}