{
  "nbformat": 4,
  "nbformat_minor": 0,
  "metadata": {
    "colab": {
      "provenance": [],
      "gpuType": "T4"
    },
    "kernelspec": {
      "name": "python3",
      "display_name": "Python 3"
    },
    "language_info": {
      "name": "python"
    },
    "accelerator": "GPU"
  },
  "cells": [
    {
      "cell_type": "markdown",
      "source": [
        "install libraries"
      ],
      "metadata": {
        "id": "ylVE-tjGM7-K"
      }
    },
    {
      "cell_type": "code",
      "source": [
        "!pip install -q transformers\n",
        "!pip install -q \"datasets<=2.18.0\"\n",
        "!pip install -q sentence-transformers\n",
        "!pip install -q langchain\n",
        "!pip install -q langchain_community\n",
        "!pip install -q torch\n",
        "!pip install -q numpy\n",
        "!pip install -q faiss-gpu\n",
        "\n",
        "from langchain_community.embeddings import HuggingFaceBgeEmbeddings\n",
        "from langchain_community.llms import HuggingFacePipeline\n",
        "from langchain_community.document_loaders import PyPDFLoader\n",
        "from langchain_community.document_loaders import PyPDFDirectoryLoader\n",
        "from langchain.text_splitter import RecursiveCharacterTextSplitter\n",
        "from langchain_community.vectorstores import FAISS\n",
        "from langchain.chains import RetrievalQA\n",
        "from langchain.prompts import PromptTemplate\n",
        "import numpy as np"
      ],
      "metadata": {
        "id": "wCbwZNi9PFU5",
        "colab": {
          "base_uri": "https://localhost:8080/"
        },
        "outputId": "94e25efd-3870-425b-b3a4-b0c964f88729"
      },
      "execution_count": 10,
      "outputs": [
        {
          "output_type": "stream",
          "name": "stdout",
          "text": [
            "\u001b[2K     \u001b[90m━━━━━━━━━━━━━━━━━━━━━━━━━━━━━━━━━━━━━━━━\u001b[0m \u001b[32m85.5/85.5 MB\u001b[0m \u001b[31m9.8 MB/s\u001b[0m eta \u001b[36m0:00:00\u001b[0m\n",
            "\u001b[?25h"
          ]
        }
      ]
    },
    {
      "cell_type": "code",
      "source": [
        "from datasets import load_dataset\n",
        "\n",
        "# List available datasets and configurations\n",
        "imdb_dataset = load_dataset(\"imdb\")\n",
        "\n",
        "# Print available splits to ensure correct loading\n",
        "print(imdb_dataset)"
      ],
      "metadata": {
        "colab": {
          "base_uri": "https://localhost:8080/"
        },
        "id": "d74QxXApNHQf",
        "outputId": "a0a8d445-d17a-491b-bc6b-8fc00a06f3f4"
      },
      "execution_count": 11,
      "outputs": [
        {
          "output_type": "stream",
          "name": "stdout",
          "text": [
            "DatasetDict({\n",
            "    train: Dataset({\n",
            "        features: ['text', 'label'],\n",
            "        num_rows: 25000\n",
            "    })\n",
            "    test: Dataset({\n",
            "        features: ['text', 'label'],\n",
            "        num_rows: 25000\n",
            "    })\n",
            "    unsupervised: Dataset({\n",
            "        features: ['text', 'label'],\n",
            "        num_rows: 50000\n",
            "    })\n",
            "})\n"
          ]
        }
      ]
    },
    {
      "cell_type": "code",
      "source": [
        "import re\n",
        "\n",
        "# Define the word or phrase you want to filter by\n",
        "specific_word = \"Star Wars\"\n",
        "\n",
        "# Define a function to filter texts containing the specific word or phrase\n",
        "def filter_texts(example):\n",
        "    return bool(re.search(rf'\\b{specific_word}\\b', example['text'], re.IGNORECASE))\n",
        "\n",
        "# Apply the filter to the train and test datasets\n",
        "filtered_train_dataset = imdb_dataset['train'].filter(filter_texts)\n",
        "filtered_test_dataset = imdb_dataset['test'].filter(filter_texts)\n",
        "filtered_unsupervised_dataset = imdb_dataset['unsupervised'].filter(filter_texts)\n",
        "\n",
        "# Verify the filtered dataset\n",
        "print(filtered_train_dataset)\n",
        "print(filtered_test_dataset)\n",
        "print(filtered_unsupervised_dataset)\n",
        "\n",
        "print(filtered_train_dataset[0])\n",
        "print(filtered_test_dataset[0])\n",
        "print(filtered_unsupervised_dataset[0])"
      ],
      "metadata": {
        "colab": {
          "base_uri": "https://localhost:8080/"
        },
        "id": "92FYP1JlUrR0",
        "outputId": "c851c7b0-b1d1-480b-c650-06b4185b55de"
      },
      "execution_count": 12,
      "outputs": [
        {
          "output_type": "stream",
          "name": "stdout",
          "text": [
            "Dataset({\n",
            "    features: ['text', 'label'],\n",
            "    num_rows: 159\n",
            "})\n",
            "Dataset({\n",
            "    features: ['text', 'label'],\n",
            "    num_rows: 153\n",
            "})\n",
            "Dataset({\n",
            "    features: ['text', 'label'],\n",
            "    num_rows: 306\n",
            "})\n",
            "{'text': 'As a kid I did think the weapon the murderer wielded was cool, however I was a kid and so I was a bit dumb. Even as a dumb kid though the movies plot was stupid and a bit boring when the killer was not using his light knife to kill people. What amazes me is that the movie has a really solid cast in it. What script did they read when agreeing to be in this movie as it is most assuredly boring and only a means to show off a light saber on a very small scale. The plot at times is incomprehensible and the end is totally chaotic. The whole film seems to rotate around aliens and the one weapon. The plot has two kids and some dude having an alien encounter, flash years later and there seems to be a return as it were in the mix. Dead animals and such to be explored and for some reason the one dude gets the weapon of the aliens and proceeds to use it to go on a very light killing spree. Seriously, you just have to wonder why this movie was made, if you are going to have a killer have some good death scenes, if you are going to have alien encounters show more than a weird light vortex thing, and if you are going to have light sabers then call yourself star wars.', 'label': 0}\n",
            "{'text': 'OK, so my summary line is a cheap trick. But the movie is full of them and it gets absurdly praised, so...<br /><br />I caught this one on TV (uncut, as TV here shows all movies, that\\'s for you Americans who might say I didn\\'t like it because I saw a cut TV version - fortunately that\\'s only an US thing), and had no idea about what it was. I switched on, caught the last minutes of a show, and the movie began. Within a minute, I was begging it was a comedy, given the particularly ridiculous clichéd beginning (yes, it\\'s a bad movie-within-the-movie, I know, but what a way to try to keep the viewer interested! I don\\'t even know why I didn\\'t switch channels). And, yes, in fact the movie turned out to be a comedy, albeit an unintentional one.<br /><br />Marina Zudina is pretty enough, but gosh, what a dreadful performance! While casting a foreigner in the role is smart enough (she doesn\\'t talk so bye bye language barrier), yet, sorry, Marina baby, playing mute doesn\\'t mean impersonating Harpo Marx. Her acting is unintentionally funny in many moments, just look at her when she draws an X in the air while stalked by the killer. He wants to kill you, it\\'s no time to play Zorro. We get plenty of \"running upstairs\" stuff passing for tension, as in the worst slashers, and things like pulling a carpet and a bad guy shots the other. Ugh! Will Hollywood ever learn? Yet the best/worst pearl is having a guy electrocuted in a bathtub and... Well, I have never seen anyone being electrocuted to death in a bathtub, but I\\'m sure you can\\'t see the blue cartoon rays in real life, do you? And how about immediately trusting a mean-looking guy because he SAYS he\\'s a cop, and not asking him to show you his credentials? OK, so he turns out to be a real cop. But still, not asking for the badge makes no sense (plot-wise, we could always think the credentials might be phony or he might be a crooked cop. Screen writing 101). And how about the big twist? Don\\'t tell me you didn\\'t see that coming from 200 miles away...<br /><br />I feel sorry for poor old Alec Guinness and his useless stock footage cameo. Now I think about this, what\\'s the point in giving him a \"Mystery Guest Star\" credit... in the END titles? The movie\\'s over, there\\'s no mystery anymore, and everybody and their brother have identified Guinness (even non-movie buffs will recognize \"the old guy from \\'Star Wars\\'\"). Yet better off this way, so we can pretend it\\'s not the late great actor.<br /><br />People keep comparing this to, of all people, Hitchcock. I suppose it has to be John Hitchcock the milkman, as the late Sir Alfred would feel embarrassed out of watching this, let alone making it. And this gets a 6.8/10???? It\\'s Bottom 100 material! But then, we\\'re talking a rating system that allows \\'The Lord of the Rings: The Return of the King\\' to appear as the third best movie ever made (check Top 100), so...<br /><br />2/10.', 'label': 0}\n",
            "{'text': \"If you are feeling bad, I advise you, DO NOT watch this movie. Wonderfully done, I think the best comment is anothers, in that this movie 'puts the prequels of star wars to color by numbers shame'. There is so much to this, it's just breathtaking. The shooting is done well, the acting is superb, and it puts Sadako in to a TOTALLY new light, and will really force you to think a bit more about Ring and it's sequels. It's difficult for me to put this in words, but trust me, this is very much a movie to see without fail. You will enjoy it greatly, though I promise you, you will be VERY depressed by it. Then again, if you expect a happy ending from a Ring movie, you haven't watched any of the others (and I do mean ANY, though some are bittersweet, none end truly happily)\", 'label': -1}\n"
          ]
        }
      ]
    },
    {
      "cell_type": "code",
      "source": [
        "from datasets import concatenate_datasets\n",
        "\n",
        "combined_dataset = concatenate_datasets([filtered_train_dataset, filtered_test_dataset, filtered_unsupervised_dataset])\n",
        "\n",
        "print(combined_dataset)\n",
        "\n",
        "print(combined_dataset[0])"
      ],
      "metadata": {
        "colab": {
          "base_uri": "https://localhost:8080/"
        },
        "id": "CQGiZzURKtnh",
        "outputId": "3bcb7498-32de-4415-d9e2-afa3cb758eb3"
      },
      "execution_count": 13,
      "outputs": [
        {
          "output_type": "stream",
          "name": "stdout",
          "text": [
            "Dataset({\n",
            "    features: ['text', 'label'],\n",
            "    num_rows: 618\n",
            "})\n",
            "{'text': 'As a kid I did think the weapon the murderer wielded was cool, however I was a kid and so I was a bit dumb. Even as a dumb kid though the movies plot was stupid and a bit boring when the killer was not using his light knife to kill people. What amazes me is that the movie has a really solid cast in it. What script did they read when agreeing to be in this movie as it is most assuredly boring and only a means to show off a light saber on a very small scale. The plot at times is incomprehensible and the end is totally chaotic. The whole film seems to rotate around aliens and the one weapon. The plot has two kids and some dude having an alien encounter, flash years later and there seems to be a return as it were in the mix. Dead animals and such to be explored and for some reason the one dude gets the weapon of the aliens and proceeds to use it to go on a very light killing spree. Seriously, you just have to wonder why this movie was made, if you are going to have a killer have some good death scenes, if you are going to have alien encounters show more than a weird light vortex thing, and if you are going to have light sabers then call yourself star wars.', 'label': 0}\n"
          ]
        }
      ]
    },
    {
      "cell_type": "code",
      "source": [
        "from langchain.text_splitter import RecursiveCharacterTextSplitter\n",
        "\n",
        "text_splitter = RecursiveCharacterTextSplitter(\n",
        "    chunk_size = 1000,\n",
        "    chunk_overlap  = 100,\n",
        "    length_function = len,\n",
        "    is_separator_regex=False,\n",
        ")\n",
        "\n",
        "# Extract texts from the dataset\n",
        "texts = combined_dataset[\"text\"]\n",
        "\n",
        "# Concatenate all texts into a single string\n",
        "concatenated_text = \" \".join(texts)\n",
        "\n",
        "texts2 = text_splitter.create_documents([concatenated_text])\n",
        "\n",
        "print(texts2[:2])\n",
        "# print(texts2[1])\n"
      ],
      "metadata": {
        "id": "5kz-subSLVqN",
        "colab": {
          "base_uri": "https://localhost:8080/"
        },
        "outputId": "75d9d802-4db9-4fbd-ba81-e52c61eb7f2e"
      },
      "execution_count": 23,
      "outputs": [
        {
          "output_type": "stream",
          "name": "stdout",
          "text": [
            "[Document(page_content='As a kid I did think the weapon the murderer wielded was cool, however I was a kid and so I was a bit dumb. Even as a dumb kid though the movies plot was stupid and a bit boring when the killer was not using his light knife to kill people. What amazes me is that the movie has a really solid cast in it. What script did they read when agreeing to be in this movie as it is most assuredly boring and only a means to show off a light saber on a very small scale. The plot at times is incomprehensible and the end is totally chaotic. The whole film seems to rotate around aliens and the one weapon. The plot has two kids and some dude having an alien encounter, flash years later and there seems to be a return as it were in the mix. Dead animals and such to be explored and for some reason the one dude gets the weapon of the aliens and proceeds to use it to go on a very light killing spree. Seriously, you just have to wonder why this movie was made, if you are going to have a killer have some good'), Document(page_content='you just have to wonder why this movie was made, if you are going to have a killer have some good death scenes, if you are going to have alien encounters show more than a weird light vortex thing, and if you are going to have light sabers then call yourself star wars. I have just lost three hours of my life to this travesty, and I can honestly say I feel violated. I had read the reviews and heard the warnings, and I thought I was prepared for anything - at best I thought, a faithful (if misguided) attempt at an original adaptation; at worst, a so-good-it\\'s-bad \"Plan 9\" for the new millennium. So when I managed to pick up a copy in Walmart while in Florida and brought it back to the UK, I joked to my friends \"Prepare for the worst movie ever made!\" Oh, cruel Karma. There is absolutely NOTHING to recommend this film. The \"special\" effects look like the work of a first year design student using a Spectrum ZX81. The acting is terrible, the accents are WORSE than terrible (one artillery')]\n"
          ]
        }
      ]
    },
    {
      "cell_type": "code",
      "source": [
        "from langchain.embeddings import CacheBackedEmbeddings, HuggingFaceEmbeddings\n",
        "from langchain.vectorstores import FAISS\n",
        "from langchain.storage import LocalFileStore\n",
        "\n",
        "store = LocalFileStore(\"./cache/\")\n",
        "\n",
        "embed_model_id = 'sentence-transformers/all-MiniLM-L6-v2'\n",
        "\n",
        "core_embeddings_model = HuggingFaceEmbeddings(\n",
        "    model_name=embed_model_id\n",
        ")\n",
        "\n",
        "embedder = CacheBackedEmbeddings.from_bytes_store(\n",
        "    core_embeddings_model, store, namespace=embed_model_id\n",
        ")\n",
        "\n",
        "vector_store = FAISS.from_documents(texts2, embedder)"
      ],
      "metadata": {
        "colab": {
          "base_uri": "https://localhost:8080/"
        },
        "id": "hdIQeuwdhCEN",
        "outputId": "0e6f7248-0ee4-4adf-d02f-e9663828ddd7"
      },
      "execution_count": 15,
      "outputs": [
        {
          "output_type": "stream",
          "name": "stderr",
          "text": [
            "/usr/local/lib/python3.10/dist-packages/huggingface_hub/file_download.py:1132: FutureWarning: `resume_download` is deprecated and will be removed in version 1.0.0. Downloads always resume when possible. If you want to force a new download, use `force_download=True`.\n",
            "  warnings.warn(\n"
          ]
        }
      ]
    },
    {
      "cell_type": "code",
      "source": [
        "query = \"What is Star Wars?\"\n",
        "embedding_vector = core_embeddings_model.embed_query(query)\n",
        "docs = vector_store.similarity_search_by_vector(embedding_vector, k = 4)\n",
        "\n",
        "for page in docs:\n",
        "  print(page.page_content)"
      ],
      "metadata": {
        "colab": {
          "base_uri": "https://localhost:8080/"
        },
        "id": "P9_SSCqphqL-",
        "outputId": "4a29ccde-4623-4177-d720-582263584b8a"
      },
      "execution_count": 22,
      "outputs": [
        {
          "output_type": "stream",
          "name": "stdout",
          "text": [
            "be any actual emphasis on plot, it just being an excuse to glue one over-long action set piece to another, so the intrigue disappears fast and the themes and contexts are given a back seat to (admittedly impressive) CGI. It seems that George Lucas thought that what made a good film was as much soulless eye candy as possible.<br /><br />Star wars was once a trailblazer in Science fiction and its originality gave most of the future Blockbusters the templates for their scenes, and what was originally Star Wars innovation became cliché at the hands of other films. Now it is Star Wars using the same plot lines we have seen over and over again, copying others and Episodes 1, 2 and 3 in a lazy attempt to seem interesting.<br /><br />You do not need spectacle to create a good film you need drama and humanity both of which this film sorely lacks. In my opinion the best Light Sabre Fight of the series was the Showdown between Darth Vader and Obi-Wan Kenobi. The fight didn't have any flipping or\n",
            "originality. Where \"Star Wars\" created a whole new experience in cinema and \"Empire\" brought us to alien worlds of swamps, ice, and clouds, \"Jedi\" lamely re-cycled the locations of the first film. First we are back on the desert planet Tatooine, and then we are watching them face ANOTHER death star (maybe the emperor couldn't think of anything new... but you'd think Lucas or Kasdan could). Also we have these ewoks, who really are just detestable made-for-mattel teddy bears, in a recycled version of what was supposed to be the big wookie-fight at the end of \"Star Wars\" if they hadn't run out of cash. It just feels like lazy construction.<br /><br />The most unfortunate aspect of \"Jedi\" for me is the weak handling of the Han Solo character. Whereas he is central to the plot of the first 2 films here he is struggling for screen time, trading one liners with the droids. Instead of a real drama we're stuck with the lame pretense that Han is still convinced Leia loves Luke -- as if the\n",
            "of being associated with the Star Wars saga. As with the Jar-Jar character, this seems targeted at children (and the toy market). The battle scenes are particularly bad. It was depressing to see Sian Phillips' incredible talent go to such a waste, after her classic performance in I, Claudius. What the hell is this!? That was my first reaction to this film (actually, my first reaction contained more swearing). This isn't Star Wars! Star Wars is space battles, this movie has none. Star Wars is the Force, this movie only has a retarded witch with a magic ring. Star Wars is lightsaber battles, this movie hasn't got any battle worth mentioning. Star Wars is humor, this movie isn't. Star Wars is a galaxy far, far away, this movie has HORSES in it!!! Besides all of this, how did Lucas get the insane idea to let a five year old baby do the leading role !? Big, big disappointment. Do you like Star Wars? Don't watch this! 1 out of 10 Looking for a movie for your Turkey Film Festival? THE ROLLER\n",
            "really a big fan of SW's Expanded Universe since its purpose is to explore the possibilities beyond the movies (which in turn ruins the rhythm of the saga's overall presentation). Clone Wars, also labeled as an Expanded Universe, otherwise proves the other way round. Due to the fact that this so-called Microseries sticks closer to the next two movies (Episodes II and III) than anything else, fans of the movies will be delighted to know that it remains true to the spirit of the Star Wars mythology despite additional sub-plots and newer characters.<br /><br />Star Wars: Clone Wars chronicles the adventures of Anakin Skywalker, his mentor Obi-Wan Kenobi, the beloved droids Threepio and Artoo and the rest of the characters from the first two films (fortunately for Jar Jar Binks-haters, he is nowhere to be seen) during the events of the Clone Wars: full-scale battles between the mechanical Separatist and the Army of the Republic (clone troopers). In addition to its role as a bridge between\n"
          ]
        }
      ]
    },
    {
      "cell_type": "code",
      "source": [],
      "metadata": {
        "id": "x1dsey-bh3wv"
      },
      "execution_count": null,
      "outputs": []
    },
    {
      "cell_type": "code",
      "source": [
        "# huggingface_embeddings = HuggingFaceBgeEmbeddings(\n",
        "#     model_name=\"BAAI/bge-small-en-v1.5\",  # alternatively use \"sentence-transformers/all-MiniLM-l6-v2\" for a light and faster experience.\n",
        "#     model_kwargs={'device':'cpu'},\n",
        "#     encode_kwargs={'normalize_embeddings': True}\n",
        "# )"
      ],
      "metadata": {
        "id": "z0NA2pLuWikt"
      },
      "execution_count": 21,
      "outputs": []
    },
    {
      "cell_type": "code",
      "source": [
        "# sample_embedding = np.array(huggingface_embeddings.embed_query(texts2[0].page_content))\n",
        "# print(\"Sample embedding of a document chunk: \", sample_embedding)\n",
        "# print(\"Size of the embedding: \", sample_embedding.shape)"
      ],
      "metadata": {
        "id": "PaAE3T4Xe173"
      },
      "execution_count": 20,
      "outputs": []
    },
    {
      "cell_type": "code",
      "source": [
        "# vectorstore = FAISS.from_documents(texts2, huggingface_embeddings)"
      ],
      "metadata": {
        "id": "2DYZbL9PXtk6"
      },
      "execution_count": 19,
      "outputs": []
    },
    {
      "cell_type": "code",
      "source": [
        "# query = \"\"\"What is Star Wars.\"\"\"\n",
        "#          # Sample question, change to other questions you are interested in.\n",
        "# relevant_documents = vectorstore.similarity_search(query)\n",
        "# print(f'There are {len(relevant_documents)} documents retrieved which are relevant to the query. Display the first one:\\n')\n",
        "# print(relevant_documents[0].page_content)"
      ],
      "metadata": {
        "id": "wbw9ZvnLdnkW"
      },
      "execution_count": 17,
      "outputs": []
    }
  ]
}